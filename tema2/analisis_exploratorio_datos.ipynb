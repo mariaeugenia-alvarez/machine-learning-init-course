{
 "cells": [
  {
   "cell_type": "markdown",
   "metadata": {},
   "source": [
    "# Análisis Exploratorio de Datos"
   ]
  },
  {
   "cell_type": "markdown",
   "metadata": {},
   "source": [
    "Comenzamos comprobando la versión de Python con la que estamos trabajando. Este curso se impartirá en Python 3.8.1 por lo que te recomiendo que tengas la misma versión o una más avanzada para seguirlo, si no podrías encontrar pequeños errores debidos a los cambios que Python realizada en cada versión."
   ]
  },
  {
   "cell_type": "code",
   "execution_count": null,
   "metadata": {},
   "outputs": [],
   "source": [
    "import sys\n",
    "print(sys.version)"
   ]
  },
  {
   "cell_type": "markdown",
   "metadata": {},
   "source": [
    "En este cuaderno exploraremos distintas técnicas de análisis de datos sobre datasets. Antes de afrontar un problema de Machine Learning es necesario comprender los datos con los que estamos trabajando y realizar labores de preprocesamiento que nos permitan trabajar con ellos. En este notebook emplearemos cuatro módulos:\n",
    "\n",
    "* __NumPy.__ Módulo para la realización de operaciones algebraicas con matrices y vectores.\n",
    "* __Pandas.__ Módulo para la construcción y manipulación de DataFrames.\n",
    "* __Matplotlib.__ Módulo para la visualización de datos. Permite construir diversos tipos de gráficos.\n",
    "* __Seaborn.__ Módulo para la visualización de datos. Lo emplearemos para la construcción de mapas de calor.\n",
    "\n",
    "Si no has trabajado con estos módulos previamente te saldrá un error similar al siguiente al tratar de importarlos:"
   ]
  },
  {
   "cell_type": "code",
   "execution_count": null,
   "metadata": {},
   "outputs": [],
   "source": [
    "import pandas"
   ]
  },
  {
   "cell_type": "markdown",
   "metadata": {},
   "source": [
    "Esto indica que el módulo no se puede importar porque el paquete no ha sido instalado. Para instalar el paquete simplemente usamos la expresión: `!pip install nombre_paquete` \n",
    "\n",
    "En el caso concreto de pandas:"
   ]
  },
  {
   "cell_type": "code",
   "execution_count": null,
   "metadata": {},
   "outputs": [],
   "source": [
    "!pip install pandas"
   ]
  },
  {
   "cell_type": "markdown",
   "metadata": {},
   "source": [
    "__Nota.__ Asegúrate de tener una conexión estable a internet a la hora de instalar nuevos módulos pues será necesario para descargarlos.\n",
    "\n",
    "Análogamente:"
   ]
  },
  {
   "cell_type": "code",
   "execution_count": null,
   "metadata": {},
   "outputs": [],
   "source": [
    "!pip install matplotlib"
   ]
  },
  {
   "cell_type": "code",
   "execution_count": null,
   "metadata": {},
   "outputs": [],
   "source": [
    "!pip install seaborn"
   ]
  },
  {
   "cell_type": "markdown",
   "metadata": {},
   "source": [
    "La distribución de pandas incluye numpy por lo que ya hemos realizado todas las instalaciones necesarias y podemos importar los módulos:"
   ]
  },
  {
   "cell_type": "code",
   "execution_count": null,
   "metadata": {},
   "outputs": [],
   "source": [
    "import pandas as pd\n",
    "import numpy as np\n",
    "import matplotlib as plt\n",
    "import seaborn as sns"
   ]
  },
  {
   "cell_type": "markdown",
   "metadata": {},
   "source": [
    "__Nota.__ Los módulos se importan con una pequeña abreviatura estándar para ahorrar tiempo y poder escribir pd/np en lugar de pandas/numpy cada vez que utilizamos uno de sus módulos.\n",
    "\n",
    "Ahora que ya tenemos los módulos necesario procedemos en primer lugar a cargar los datos en el notebook.\n",
    "\n",
    "## Carga de datos\n",
    "\n",
    "Tras observar los datos estudiamos el comando `pandas.read_csv()`:"
   ]
  },
  {
   "cell_type": "code",
   "execution_count": null,
   "metadata": {},
   "outputs": [],
   "source": [
    "help(pd.read_csv)"
   ]
  },
  {
   "cell_type": "code",
   "execution_count": null,
   "metadata": {},
   "outputs": [],
   "source": [
    "pokemon_data = pd.read_csv('./data/Pokemon.csv') #en Windows se usaría la \\ en lugar de / para indicar la ruta del archivo"
   ]
  },
  {
   "cell_type": "markdown",
   "metadata": {},
   "source": [
    "Podemos visualizar los datos que acabamos de cargar:"
   ]
  },
  {
   "cell_type": "code",
   "execution_count": null,
   "metadata": {},
   "outputs": [],
   "source": [
    "pokemon_data"
   ]
  },
  {
   "cell_type": "markdown",
   "metadata": {},
   "source": [
    "Tras esto los datos ya se han cargado en nuestro cuaderno. Podemos obtener una previsualización de los datos mediante el método `head()` que por defecto nos muestra las 5 primeras filas:"
   ]
  },
  {
   "cell_type": "code",
   "execution_count": null,
   "metadata": {},
   "outputs": [],
   "source": [
    "pokemon_data.head()"
   ]
  },
  {
   "cell_type": "markdown",
   "metadata": {},
   "source": [
    "Podemos indicarle cuántas filas deseamos que nos muestre:"
   ]
  },
  {
   "cell_type": "code",
   "execution_count": null,
   "metadata": {},
   "outputs": [],
   "source": [
    "pokemon_data.head(6)"
   ]
  },
  {
   "cell_type": "markdown",
   "metadata": {},
   "source": [
    "El método tail previsualiza las últimas filas en lugar de las primeras:"
   ]
  },
  {
   "cell_type": "code",
   "execution_count": null,
   "metadata": {},
   "outputs": [],
   "source": [
    "pokemon_data.tail()"
   ]
  },
  {
   "cell_type": "markdown",
   "metadata": {},
   "source": [
    "Una buena medida para comprobar que se han cargado todos los datos y hacernos una idea del tamaño de dato con el que estamos trabajando es comprobar sus dimensiones mediante el atributo `shape`:"
   ]
  },
  {
   "cell_type": "code",
   "execution_count": null,
   "metadata": {},
   "outputs": [],
   "source": [
    "pokemon_data.shape"
   ]
  },
  {
   "cell_type": "markdown",
   "metadata": {},
   "source": [
    "En este caso nuestro conjunto de datos consta de 800 filas y 13 columnas."
   ]
  },
  {
   "cell_type": "markdown",
   "metadata": {},
   "source": [
    "Otra comprobación interesante es el tipo de dato almacenado en cada columna que se obtiene mediante el atributo `dtypes`:"
   ]
  },
  {
   "cell_type": "code",
   "execution_count": null,
   "metadata": {},
   "outputs": [],
   "source": [
    "pokemon_data.dtypes"
   ]
  },
  {
   "cell_type": "markdown",
   "metadata": {},
   "source": [
    "En este caso tenemos cuatro variables categóricas, _name_, _Type 1_,_Type 2_ y _Legendary_ siendo el resto de variables cuantitativas."
   ]
  },
  {
   "cell_type": "markdown",
   "metadata": {},
   "source": [
    "Ahora que ya hemos hecho una aproximación a los datos nos detendremos brevemente en comprender cada variable. Esta información suele venir adjunta al conjunto de datos y recibe el nombre de __diccionario de datos__. Explica el signficado real de cada variable y la unidad en la que ha sido medida y es de vital importancia para comprender el problema\n",
    "\n",
    "### Diccionario de datos\n",
    "\n",
    "Las variables presentes en este dataset son:\n",
    "\n",
    "* __#__. Es un índice numérico. Una variable identificativa sin información para el problema. __Ojo.__ Veremos que si es útil para la exploración de datos.\n",
    "* __Name__. Es el nombre del Pokèmon.\n",
    "* __Type 1__. Tipo principal del Pokèmon.\n",
    "* __Type 2__. Tipo secundario del Pokèmon.\n",
    "* __Total__. La suma de todas las estadística de batallas, busca dar una indicación de la fuerza total del Pokèmon.\n",
    "* __HP__. Puntos de salud del Pokèmon.\n",
    "* __Attack__. Puntos ofensivos del Pokèmon.\n",
    "* __Defense__. Puntos defensivos del Pokèmon.\n",
    "* __Sp. Atk__. Puntos ofensivos del ataque especial del Pokèmon\n",
    "* __Sp. Def__. Puntos defensivos de la defensa especial del Pokèmon\n",
    "* __Speed__. Velocidad del Pokèmon.\n",
    "* __Generation__. Generación en la que aparece el Pokèmon.\n",
    "* __Legendary__. Indica si el Pokèmon es o no legendario."
   ]
  },
  {
   "cell_type": "markdown",
   "metadata": {},
   "source": [
    "Ahora que comprendemos los datos podemos explorarlos más en profundidad.\n",
    "\n",
    "***\n"
   ]
  },
  {
   "cell_type": "markdown",
   "metadata": {},
   "source": [
    "## Estadística de las variables\n",
    "\n",
    "En este caso deben tratarse de manera diferente variables cuantitativas y cualitativas.\n",
    "\n",
    "### Variables cualitativas\n",
    "\n",
    "__Reminder.__ Variables cualitativas son aquellas que toman un número finito de valores. En nuestro caso las variables cualitativas son los nombres, el tipo principal y secundario y el indicador de si es legendario.\n",
    "\n",
    "Podemos comenzar viendo cuántos valores distintos toma cada variable:"
   ]
  },
  {
   "cell_type": "code",
   "execution_count": null,
   "metadata": {},
   "outputs": [],
   "source": [
    "pokemon_data.head()"
   ]
  },
  {
   "cell_type": "markdown",
   "metadata": {},
   "source": [
    "El método `nunique()` nos devuelve el número de valores distintos que toma una variable:"
   ]
  },
  {
   "cell_type": "code",
   "execution_count": null,
   "metadata": {},
   "outputs": [],
   "source": [
    "pokemon_data['Type 1'].nunique()"
   ]
  },
  {
   "cell_type": "markdown",
   "metadata": {},
   "source": [
    "Además en ocasiones podemos estar interesados en saber cómo se distribuyen estos valores así que usando el método `value_counts()` podemos obtener el detalle de cada clase junto con el número apariciones ordenadas de mayor a menor:"
   ]
  },
  {
   "cell_type": "code",
   "execution_count": null,
   "metadata": {},
   "outputs": [],
   "source": [
    "pokemon_data['Type 1'].value_counts()"
   ]
  },
  {
   "cell_type": "markdown",
   "metadata": {},
   "source": [
    "Por lo tanto tenemos 18 clases que podemos observar que no están balanceadas, solo existen cuatro Pokèmons de tipo volador frente a 112 de tipo agua.\n",
    "\n",
    "Análogamente para el tipo secundario:"
   ]
  },
  {
   "cell_type": "code",
   "execution_count": null,
   "metadata": {},
   "outputs": [],
   "source": [
    "pokemon_data['Type 2'].nunique()"
   ]
  },
  {
   "cell_type": "code",
   "execution_count": null,
   "metadata": {},
   "outputs": [],
   "source": [
    "pokemon_data['Type 2'].value_counts()"
   ]
  },
  {
   "cell_type": "markdown",
   "metadata": {},
   "source": [
    "De nuevo tenemos 18 clases y bastante disparidad. Es curioso que en este caso volador aparece como tipo secundario más frecuente y normal que era el segundo tipo principal más frecuente aparece en penúltima posición."
   ]
  },
  {
   "cell_type": "markdown",
   "metadata": {},
   "source": [
    "La variable nombre sin embargo presenta:"
   ]
  },
  {
   "cell_type": "code",
   "execution_count": null,
   "metadata": {},
   "outputs": [],
   "source": [
    "pokemon_data['Name'].nunique()"
   ]
  },
  {
   "cell_type": "markdown",
   "metadata": {},
   "source": [
    "Si recordamos este es el número total de filas:"
   ]
  },
  {
   "cell_type": "code",
   "execution_count": null,
   "metadata": {},
   "outputs": [],
   "source": [
    "pokemon_data.shape"
   ]
  },
  {
   "cell_type": "markdown",
   "metadata": {},
   "source": [
    "Por lo que tiene un valor único para cada fila.\n",
    "\n",
    "__Nota.__ Cuando una variable tiene un valor único para cada fila esta variable no almacena información relevante a la hora de construir un modelo. Puede ser una variable con información relevante, por ejemplo, es interesante conocer el nombre de cada Pokèmon pero no aporta información para un modelo pues no se puede generalizar. Es importante conocer el nombre de un cliente en un banco pero no será una variable relevante a la hora de decidir si se le concede o no un crédito."
   ]
  },
  {
   "cell_type": "markdown",
   "metadata": {},
   "source": [
    "Por último en la variable de tipo bool sabemos que solo existen dos posibles valores True o False por lo que observamos cómo se distribuyen:"
   ]
  },
  {
   "cell_type": "code",
   "execution_count": null,
   "metadata": {},
   "outputs": [],
   "source": [
    "pokemon_data['Legendary'].value_counts()"
   ]
  },
  {
   "cell_type": "markdown",
   "metadata": {},
   "source": [
    "Observamos que existen 65 legendario frente a 735 no legendarios. Son dos clases muy desbalanceadas, esto ocurre precisamente porque los Pokèmon legendarios son considerados más especiales que los no legendarios.\n",
    "\n",
    "Por último, si prestamos atención a las variables descubriremos que _Generation_ es en realidad una variable categórica. Solo toma seis valores (1, 2, 3, 4, 5 y 6). Realmente se podrían sustituir los números por letras, por ejemplo, generación A, B, C... por lo que la trataremos como una variable cualitativa:\n",
    "\n"
   ]
  },
  {
   "cell_type": "code",
   "execution_count": null,
   "metadata": {},
   "outputs": [],
   "source": [
    "pokemon_data['Generation'].value_counts().sort_index() #ordenamos por índice para que sea más comprensible"
   ]
  },
  {
   "cell_type": "markdown",
   "metadata": {},
   "source": [
    "En el análisis de datos no es solo importante los resultados si no las preguntas que nos podemos plantear en torno a ellos, por ejemplo, ¿vista esta distribución están las clases equilibradas? ¿A qué puede deberse el desequilibrio? ¿Es una base completa? ¿Se podría completar?"
   ]
  },
  {
   "cell_type": "markdown",
   "metadata": {},
   "source": [
    "Hasta aquí hemos estudiado las variable cualitativas. Veamos ahora que pasa con las cuantitativas.\n",
    "\n",
    "***\n",
    "\n",
    "### Variables cuantitativas\n",
    "\n",
    "__Reminder.__ Las variables cuantitativas son aquellas que pueden tomar un número infinito de valores.\n",
    "\n",
    "En este caso para explorar cómo se distribuyen las variables recurriremos a estadísticos básicos como son la media, la mediana, la varianza, el mínimo, el máximo...\n",
    "\n",
    "Las variables cuantitativas en una primera aproximación son: _#, Total, HP, Attack, Defense, Sp. Atk, Sp.Def, Speed._\n",
    "\n",
    "Comencemos analizando la variable total:"
   ]
  },
  {
   "cell_type": "code",
   "execution_count": null,
   "metadata": {},
   "outputs": [],
   "source": [
    "print('La media de Total es:', pokemon_data['Total'].mean())\n",
    "print('La mediana de Total es:', pokemon_data['Total'].median())\n",
    "print('El valor máximo de Total es:', pokemon_data['Total'].min())\n",
    "print('El valor mínimo de Total es:', pokemon_data['Total'].max())\n",
    "print('La varianza de Total es:', pokemon_data['Total'].var())"
   ]
  },
  {
   "cell_type": "markdown",
   "metadata": {},
   "source": [
    "Este rápido análisis numérico nos permite comprender que variable está distribuida de una manera bastante equilibrada (la media y la mediana se encuentran relativamente próxima). La varianza junto con los valores mínimos y máximos confirman que la variable toma un amplio rango de valores (180 a 780 puntos).\n",
    "\n",
    "Ete problema es relativamente sencillo y emplea pocas variables pero qué ocurre si nos enfrentamos a un problema con 50 variables. Podemos emplear el método `describe( )`:"
   ]
  },
  {
   "cell_type": "code",
   "execution_count": null,
   "metadata": {},
   "outputs": [],
   "source": [
    "pokemon_data.describe()"
   ]
  },
  {
   "cell_type": "markdown",
   "metadata": {},
   "source": [
    "__Ojo.__ Este método resulta muy útil pero es importante observar que realizará el análisis sobre todas las variables de tipo numérico, sin importar si son cualitativas o cuantitativas (si nos fijamos aparece Generation).\n",
    "\n",
    "El método nos presenta para cada variable codificada como un número (que no cuantitativa):\n",
    "\n",
    "* Count. Número de registros no nulos. En ocasiones podemos no disponer de cierta información de un Pokèmon concreto apareciendo un hueco en el lugar donde debería estar. \n",
    "* Mean. La media de la distribución de la variable.\n",
    "* Std. La desviación estándar (raíz de la varianza) de la distribución de la variable.\n",
    "* Min. El valor mínimo que toma la variable.\n",
    "* Max. El valor máximo que toma la variable.\n",
    "* 25%, 50%, 75%. Son los cuartiles de la distribución de la variable."
   ]
  },
  {
   "cell_type": "markdown",
   "metadata": {},
   "source": [
    "***\n",
    "## Valores perdidos\n",
    "\n",
    "Los valores perdidos en un dataset son aquellos que se desconocen. Sus causas de origen son diversas, mala ingesta de datos, mal procesamiento de los datos, cambios en la forma de recopilación del dato, negativa de los encuestados a comunicarlos. \n",
    "\n",
    "A la hora de detectar los valores empleamos el método `isna( )`:"
   ]
  },
  {
   "cell_type": "code",
   "execution_count": null,
   "metadata": {},
   "outputs": [],
   "source": [
    "pokemon_data.isna().sum()"
   ]
  },
  {
   "cell_type": "markdown",
   "metadata": {},
   "source": [
    "Observamos que todas las variables se encuentran completas exceptuando el campo tipo secundario en 386 casos. En el siguiente cuaderno veremos maneras de imputar valores perdidos.\n",
    "\n",
    "***\n",
    "\n",
    "## Matriz de correlación\n",
    "\n",
    "La correlación es la medida que  dos variables numéricas presentan una relación lineal, es decir, una relación que aumenta o disminuye a un ritmo constante.\n",
    "\n",
    "__Nota.__ Esto se explicará en más profundidad y con ejemplos en el próximo módulo. De momento solo es importante conocer su cálculo mediante Python:\n"
   ]
  },
  {
   "cell_type": "code",
   "execution_count": null,
   "metadata": {},
   "outputs": [],
   "source": [
    "corr_0 = pokemon_data.corr()"
   ]
  },
  {
   "cell_type": "code",
   "execution_count": null,
   "metadata": {},
   "outputs": [],
   "source": [
    "corr_0"
   ]
  },
  {
   "cell_type": "markdown",
   "metadata": {},
   "source": [
    "En la matriz de correlación observamos que aparecen las variables `Generation` y `Legendary`. La correlación solamente se calcula sobre variables cuantitativas por lo que no debe aparecer. Generamos un dataframe provisional para calcular correlación:"
   ]
  },
  {
   "cell_type": "code",
   "execution_count": null,
   "metadata": {},
   "outputs": [],
   "source": [
    "pokemon_quantitative_data = pokemon_data[['Total', 'HP', 'Attack', 'Defense', 'Sp. Atk', 'Sp. Def', 'Speed']] #seleccionamos manualmente las variables cuantitativas\n",
    "correlation_matrix = pokemon_quantitative_data.corr()\n",
    "correlation_matrix"
   ]
  },
  {
   "cell_type": "markdown",
   "metadata": {},
   "source": [
    "__Nota.__ Las matrices de correlación son siempre simétricas. La correlación del ataque con la defensa, será igual que la de la defensa con el ataque."
   ]
  },
  {
   "cell_type": "markdown",
   "metadata": {},
   "source": [
    "## Visualización de los datos\n",
    "\n",
    "Hasta ahora hemos estado sacando los coeficientes más relevantes a la hora de explorar un conjunto de datos, pero ¿qué ocurre si nos encontramos ante un conjunto de datos con 50 variables? Necesitamos un métodos que nos permita explorar el conjunto más rápido. Aquí es donde entra en juego la visualización de los datos. A continuación se construyen funciones para la representación más relevante de las variables.\n",
    "\n",
    "### Variables categóricas"
   ]
  },
  {
   "cell_type": "markdown",
   "metadata": {},
   "source": [
    "Construimos la siguiente función que se puede emplear en cualquier dataset, no solo en este en el que estamos trabajando. Emplearemos gráficos de barras para visualizar variables categóricas:"
   ]
  },
  {
   "cell_type": "code",
   "execution_count": null,
   "metadata": {},
   "outputs": [],
   "source": [
    "def plot_categorical_variables(dataframe, list_categorical_columns):\n",
    "    for variable in list_categorical_columns: # recorremos las variable categóricas\n",
    "        plt.pyplot.figure() # creamos la figura\n",
    "        dataframe[variable].value_counts().sort_index().plot(kind='bar', title=variable) # rellenamos la figura con un gráfico de barras"
   ]
  },
  {
   "cell_type": "code",
   "execution_count": null,
   "metadata": {},
   "outputs": [],
   "source": [
    "categorical_variables = ['Type 1', 'Type 2', 'Generation', 'Legendary']"
   ]
  },
  {
   "cell_type": "code",
   "execution_count": null,
   "metadata": {},
   "outputs": [],
   "source": [
    "plot_categorical_variables(pokemon_data, categorical_variables)"
   ]
  },
  {
   "cell_type": "markdown",
   "metadata": {},
   "source": [
    "### Variables cuantitativas\n",
    "\n",
    "En el caso de las variables cuantitativas emplearemos histogramas para visualizar su distribución. De nuevo esta función es reutilizable en otros datasets:"
   ]
  },
  {
   "cell_type": "code",
   "execution_count": null,
   "metadata": {},
   "outputs": [],
   "source": [
    "def plot_quantitative_variables(dataframe, list_quantitative_columns):\n",
    "    for variable in list_quantitative_columns:\n",
    "        plt.pyplot.figure()\n",
    "        dataframe[variable].plot(kind = 'hist', title=variable)"
   ]
  },
  {
   "cell_type": "code",
   "execution_count": null,
   "metadata": {},
   "outputs": [],
   "source": [
    "quantitative_variables = ['Total', 'HP', 'Attack', 'Defense', 'Sp. Atk', 'Sp. Def', 'Speed']"
   ]
  },
  {
   "cell_type": "code",
   "execution_count": null,
   "metadata": {},
   "outputs": [],
   "source": [
    "plot_quantitative_variables(pokemon_data, quantitative_variables)"
   ]
  },
  {
   "cell_type": "markdown",
   "metadata": {},
   "source": [
    "### Correlación\n",
    "\n",
    "Por último se puede construir un mapa de calor para visualizar las correlaciones entre variables de manera rápida y general. La matriz de correlaciones puede tomar dimensiones desproporcionadas cuando se trabaja con muchas variables:"
   ]
  },
  {
   "cell_type": "code",
   "execution_count": null,
   "metadata": {},
   "outputs": [],
   "source": [
    "# Generamos una máscara para el triángulo superior\n",
    "mask = np.zeros_like(correlation_matrix, dtype=np.bool)\n",
    "mask[np.triu_indices_from(mask)] = True\n",
    "\n",
    "# Construimos la figura en matplotlib\n",
    "f, ax = plt.pyplot.subplots(figsize=(11, 9))\n",
    "\n",
    "# Generamos el mapa de calor\n",
    "cmap = sns.diverging_palette(220, 10, as_cmap=True)\n",
    "\n",
    "# Dibujamos el mapa usando la máscara y añadiendo algunos parámetros que mejoran la visualización\n",
    "sns.heatmap(correlation_matrix, mask=mask, cmap=cmap, vmax=1,vmin=-1, center=0, square=True, linewidths=.5, cbar_kws={\"shrink\": .5});"
   ]
  },
  {
   "cell_type": "markdown",
   "metadata": {},
   "source": [
    "__Nota.__ Representamos solo media matriz porque es simétrica. Representando solo una de las dos mitades facilitamos la lectura sin mostrar información redundante (este es de hecho uno de los principios básicos de la visualización de datos).\n",
    "\n",
    "***\n",
    "\n",
    "Hasta aquí hemos visto las partes más relevantes del análisis exploratorio de datos. El código presentado en este cuaderno puede ser adaptado y reutilizado para cualquier dataset y supondrá un buen punto de partida a la hora de enfrentarnos a un nuevo problema o a un nuevo conjunto de datos.\n",
    "\n",
    "## Perfilado de datos\n",
    "\n",
    "Para finalizar se presenta una pequeña herramienta de Pandas que genera un informe automático de las variables de un dataframe de manera rápida y automatizada:"
   ]
  },
  {
   "cell_type": "code",
   "execution_count": null,
   "metadata": {},
   "outputs": [],
   "source": [
    "!pip install pandas_profiling"
   ]
  },
  {
   "cell_type": "code",
   "execution_count": null,
   "metadata": {},
   "outputs": [],
   "source": [
    "import pandas_profiling\n",
    "profile = pandas_profiling.ProfileReport(pokemon_data) # generamos el perfil de datos\n",
    "profile.to_file(\"pokemon_report.html\") # almacenamos el perfil de datos en un archivo html\n",
    "profile"
   ]
  },
  {
   "cell_type": "markdown",
   "metadata": {},
   "source": [
    "En este notebook hemos realizado un análisis exploratorio que nos ha permitido comenzar a comprender los pilares del análisis de datos. Hemos calculado los estadísticos más relevantes y generado visualizaciones que nos permiten comprender y explicar mejor los datos. Además hemos visto algunas de las preguntas que debemos plantearnos al atacar un nuevo conjunto de datos ¿qué información relevan sus variables? ¿Son distribuciones equilibradas? ¿Tenemos huecos en nuestros datos? \n",
    "\n",
    "A lo largo de todo este curso usaremos este notebook como plantilla para explorar los distintos conjuntos de datos con los que trabajaremos."
   ]
  }
 ],
 "metadata": {
  "kernelspec": {
   "display_name": "Python 3",
   "language": "python",
   "name": "python3"
  },
  "language_info": {
   "codemirror_mode": {
    "name": "ipython",
    "version": 3
   },
   "file_extension": ".py",
   "mimetype": "text/x-python",
   "name": "python",
   "nbconvert_exporter": "python",
   "pygments_lexer": "ipython3",
   "version": "3.8.1"
  }
 },
 "nbformat": 4,
 "nbformat_minor": 4
}
