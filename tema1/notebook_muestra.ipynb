{
 "cells": [
  {
   "cell_type": "markdown",
   "metadata": {},
   "source": [
    "# Cuaderno de muestra"
   ]
  },
  {
   "cell_type": "markdown",
   "metadata": {},
   "source": [
    "## Celdas de código"
   ]
  },
  {
   "cell_type": "markdown",
   "metadata": {},
   "source": [
    "Para ejecutar código nos situamos sobre una celda y pulsamos el botón de run en el menú o Shift + Enter:"
   ]
  },
  {
   "cell_type": "code",
   "execution_count": null,
   "metadata": {},
   "outputs": [],
   "source": [
    "print('Bienvenido a este curso de Machine Learning')"
   ]
  },
  {
   "cell_type": "markdown",
   "metadata": {},
   "source": [
    "El código se ejecuta de manera secuencial por lo que el orden en el que ejecutemos las celdas afecta a los resultados. Es altamente recomendable escribir las celdas en el orden en que se desea que sean ejecutada."
   ]
  },
  {
   "cell_type": "code",
   "execution_count": null,
   "metadata": {},
   "outputs": [],
   "source": [
    "x + 5"
   ]
  },
  {
   "cell_type": "markdown",
   "metadata": {},
   "source": [
    "La asignación se realizae empleando el signo igual \"=\":"
   ]
  },
  {
   "cell_type": "code",
   "execution_count": null,
   "metadata": {},
   "outputs": [],
   "source": [
    "x = 3"
   ]
  },
  {
   "cell_type": "code",
   "execution_count": null,
   "metadata": {},
   "outputs": [],
   "source": [
    "x + 5"
   ]
  },
  {
   "cell_type": "markdown",
   "metadata": {},
   "source": [
    "El símbolo de stop en la barra superior nos permite detener la ejecución de una celda y resulta especialmente útil para procesos inesperadamente largos o bucles infinitos:"
   ]
  },
  {
   "cell_type": "code",
   "execution_count": null,
   "metadata": {},
   "outputs": [],
   "source": [
    "while x > 2:\n",
    "    print(\"Hola. Esto es un bucle infinito\")"
   ]
  },
  {
   "cell_type": "markdown",
   "metadata": {},
   "source": [
    "## Celdas de texto"
   ]
  },
  {
   "cell_type": "markdown",
   "metadata": {},
   "source": [
    "Este es un cuaderno de muestra para mostrar todas las posibilidades que ofrecen los cuadernos de Jupyter. No dudes en interactuar con él, modificarlo y hacer todo tipo de experimentos; ¡es la forma más eficiente y entretenida de aprender!"
   ]
  },
  {
   "cell_type": "markdown",
   "metadata": {},
   "source": [
    "Esta es una celda de texto o tipo markdown. Podemos escribir en texto plano pero también utilizar recursos tipográficos como por ejemplo: __letra negrita__ , _cursiva (también llamada itálica)_, <u>subrayado</u>...\n",
    "\n",
    "Todo esto viene integrado dentro del propio notebook. Haz doble click sobre esta celda y las siguiente para observar cómo dar distintos formatos e insertar elementos multimedia."
   ]
  },
  {
   "cell_type": "markdown",
   "metadata": {},
   "source": [
    "__Nota.__ El símbolo + se usa para añadir una celda."
   ]
  },
  {
   "cell_type": "markdown",
   "metadata": {},
   "source": [
    "Otras ideas interesantes y que podremos ver a lo largo de los cuadernos con los que trabajemos son:\n",
    "\n",
    "Listas de elementos:\n",
    "\n",
    "* Machine Learning\n",
    "* Inteligencia Artificial \n",
    "* Deep Learning\n",
    "\n",
    "Listas numeradas:\n",
    "\n",
    "1. Introducción\n",
    "2. Aprendizaje Estadístico\n",
    "3. Regresión Lineal\n",
    "\n",
    "\n",
    "[Enlaces a páginas web](https://keepcoding.io/)\n",
    "\n",
    "Insertar imágenes locales: \n",
    "\n",
    "![Logo KeepCoding](media/logo.jpg)\n",
    "\n",
    "\n",
    "Líneas horizontales:\n",
    "\n",
    "***\n",
    "\n",
    "\n",
    "O incluso reproducir vídeos de Youtube:"
   ]
  },
  {
   "cell_type": "code",
   "execution_count": null,
   "metadata": {},
   "outputs": [],
   "source": [
    "from IPython.display import YouTubeVideo\n",
    "\n",
    "YouTubeVideo('YLXLzK075BI')"
   ]
  },
  {
   "cell_type": "markdown",
   "metadata": {},
   "source": [
    "Todo esto se logra con una o dos líneas de código como mucho, como podemos ver es una herramienta muy útil para la edición textos y media. "
   ]
  }
 ],
 "metadata": {
  "kernelspec": {
   "display_name": "Python 3",
   "language": "python",
   "name": "python3"
  },
  "language_info": {
   "codemirror_mode": {
    "name": "ipython",
    "version": 3
   },
   "file_extension": ".py",
   "mimetype": "text/x-python",
   "name": "python",
   "nbconvert_exporter": "python",
   "pygments_lexer": "ipython3",
   "version": "3.8.1"
  }
 },
 "nbformat": 4,
 "nbformat_minor": 4
}
