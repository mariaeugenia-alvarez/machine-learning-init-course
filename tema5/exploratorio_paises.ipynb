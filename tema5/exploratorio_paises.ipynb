{
 "cells": [
  {
   "cell_type": "markdown",
   "metadata": {},
   "source": [
    "# Análisis Exploratorio Country Data\n",
    "\n",
    "En esta sección emplearemos la base de datos `Country Data` en la que se recoge información sobre distintos indicadores de cada país. Comenzamos explorando esta base de datos para familiarizarnos con la información contenida en ella:"
   ]
  },
  {
   "cell_type": "markdown",
   "metadata": {},
   "source": [
    "<div>\n",
    "<img src=\"./media/mapamundi.jpg\" width=\"500\"/>\n",
    "</div>"
   ]
  },
  {
   "cell_type": "markdown",
   "metadata": {},
   "source": [
    "Para el análisis exploratorio empleamos los siguientes módulos:"
   ]
  },
  {
   "cell_type": "code",
   "execution_count": null,
   "metadata": {},
   "outputs": [],
   "source": [
    "import pandas as pd\n",
    "import numpy as np\n",
    "import matplotlib.pyplot as plt\n",
    "import seaborn as sns"
   ]
  },
  {
   "cell_type": "markdown",
   "metadata": {},
   "source": [
    "Comenzamo cargando nuestros datos en un dataframe de pandas:"
   ]
  },
  {
   "cell_type": "code",
   "execution_count": null,
   "metadata": {},
   "outputs": [],
   "source": [
    "paises_data = pd.read_csv('./data/country_data.csv', index_col = 0)"
   ]
  },
  {
   "cell_type": "markdown",
   "metadata": {},
   "source": [
    "Comprobamos que los datos se hayan cargado de manera correcta:"
   ]
  },
  {
   "cell_type": "code",
   "execution_count": null,
   "metadata": {},
   "outputs": [],
   "source": [
    "paises_data.head()"
   ]
  },
  {
   "cell_type": "markdown",
   "metadata": {},
   "source": [
    "Inspeccionamos las dimensiones de nuestros dataframe:"
   ]
  },
  {
   "cell_type": "code",
   "execution_count": null,
   "metadata": {},
   "outputs": [],
   "source": [
    "paises_data.shape"
   ]
  },
  {
   "cell_type": "markdown",
   "metadata": {},
   "source": [
    "Observamos que tiene 167 observaciones, es decir, que estamos tratando información de 167 países, cuyos nombres se encuentran en el índice. En estos países estudiamos un total de 9 variables o indicadores.\n",
    "\n",
    "A continuación se presenta el diccionario de datos:"
   ]
  },
  {
   "cell_type": "markdown",
   "metadata": {},
   "source": [
    "## Diccinario de datos\n",
    "\n",
    "A continuación se explican las nueve variables que componen este dataframe:\n",
    "\n",
    "* **child_mort**.  Mortalidad infantil. Esta variable mide el número de niños muertos antes de los cinco años por cada 1000 nacimientos.\n",
    "* **exports**.  Exportaciones. Esta variable mide el porcentaje de riqueza que suponen las exportaciones sobre el PIB.\n",
    "* **health**.  Salud. Esta variable mide el porcentaje del PIB destinado a sanidad.\n",
    "* **imports**.  Importaciones. Esta variable mide el porcentaje de importaciones de bienes y servicios sobre el PIB.\n",
    "* **Income**.  Ingresos. Esta variable mide los ingresos netos por persona.\n",
    "\n",
    "* **Inflation**.  Inflación. Esta variable mide la inflación.\n",
    "\n",
    "* **life_spec**.  Esperanza de vida. Esta variable mide el número medio de años que se espera que viva un recién nacido si las condiciones del país se mantienen estables.\n",
    "\n",
    "* **total_fer**.  Tasa de fertilidad. Esta variable mide el número de hijos que tendría una mujer en su vida si las condiciones del país se mantienen estables.\n",
    "\n",
    "* **gdpp**.  PIB. Esta variable mide el Producto Interior Bruto per capita. Es decir, PIB divido por la población."
   ]
  },
  {
   "cell_type": "markdown",
   "metadata": {},
   "source": [
    "## Valores perdidos\n",
    "\n",
    "Comprobamos si existen valores perdidos para alguna de las variables:"
   ]
  },
  {
   "cell_type": "code",
   "execution_count": null,
   "metadata": {},
   "outputs": [],
   "source": [
    "paises_data.info()"
   ]
  },
  {
   "cell_type": "markdown",
   "metadata": {},
   "source": [
    "Observamos que todas las variables se encuentran completas. No existen huecos en nuestra base de datos."
   ]
  },
  {
   "cell_type": "markdown",
   "metadata": {},
   "source": [
    "A excepción del índice todas las variables son numéricas. Como sabemos el índice de un DataFrame está formado por valores únicos (no pueden existir dos filas con el mismo índice) no puede haber países repetidos.\n",
    "\n",
    "Exploramos pues las variables numéricas."
   ]
  },
  {
   "cell_type": "markdown",
   "metadata": {},
   "source": [
    "## Estadísticos relevantes"
   ]
  },
  {
   "cell_type": "markdown",
   "metadata": {},
   "source": [
    "Comenzamos calculando los estadísticos más relevantes:"
   ]
  },
  {
   "cell_type": "code",
   "execution_count": null,
   "metadata": {},
   "outputs": [],
   "source": [
    "paises_data.describe()"
   ]
  },
  {
   "cell_type": "markdown",
   "metadata": {},
   "source": [
    "En este caso existen variables muy desequilibradas como, por ejemplo, los ingresos con una media de 17144 y una mediana de 9960 o el Producto Interior Bruto con una media de 12964 frente a una mediana de 4660. Además podemos observar que las variables se mueven en rangos diametralmente distintos. La fertilidad oscila entre 1.15 y 7.49 frente a los ingresos que varían entre 609 y 125.000. Si algún dato nos sorprende podemos explorarlo concretamente:"
   ]
  },
  {
   "cell_type": "code",
   "execution_count": null,
   "metadata": {},
   "outputs": [],
   "source": [
    "paises_data[paises_data.income==paises_data.income.max()]"
   ]
  },
  {
   "cell_type": "markdown",
   "metadata": {},
   "source": [
    "## Visualización de los datos\n",
    "\n",
    "A continuación construimos los histogramas de cada variable para familiarizarnos más con la base de datos:"
   ]
  },
  {
   "cell_type": "code",
   "execution_count": null,
   "metadata": {},
   "outputs": [],
   "source": [
    "def plot_quantitative_variables(dataframe, list_quantitative_columns):\n",
    "    for variable in list_quantitative_columns:\n",
    "        plt.figure()\n",
    "        dataframe[variable].plot(kind = 'hist', title=variable)"
   ]
  },
  {
   "cell_type": "code",
   "execution_count": null,
   "metadata": {
    "scrolled": false
   },
   "outputs": [],
   "source": [
    "plot_quantitative_variables(paises_data, paises_data.columns)"
   ]
  },
  {
   "cell_type": "markdown",
   "metadata": {},
   "source": [
    "Observamos que en este caso las variables son bastante dispares en cuanto a distribución. Existen algunas próximas a una distribución normal como la del gasto en sanidad o las exportaciones. Si observamos otras como los ingresos que ya vimos que no estaba centrada observamos como el peso de la distibuciones se concentra en ingresos relativamente bajos frente a la expectativa de vida que se concentra en valores bastante altos. Observamos que pese a la enorme variabilidad del PIB la mayor parte de los valores se encuentran concentrados entre 0 y 20.000.\n",
    "\n",
    "Para concluir nuestro análisis exploratorio y por tratarse de variables numéricas todas ellas es interesante construir la matriz de correlación."
   ]
  },
  {
   "cell_type": "markdown",
   "metadata": {},
   "source": [
    "## Matriz de correlación\n",
    "\n",
    "Calculamos como siempre la matriz de correlación:"
   ]
  },
  {
   "cell_type": "code",
   "execution_count": null,
   "metadata": {},
   "outputs": [],
   "source": [
    "corr_matrix = paises_data.corr()\n",
    "corr_matrix"
   ]
  },
  {
   "cell_type": "markdown",
   "metadata": {},
   "source": [
    "Por tratarse de una matriz de gran tamaño parece más inteligente intentar sacar las conclusiones a partir de un mapa de calor:"
   ]
  },
  {
   "cell_type": "code",
   "execution_count": null,
   "metadata": {},
   "outputs": [],
   "source": [
    "# Generamos una máscara para el triángulo superior\n",
    "mask = np.zeros_like(corr_matrix, dtype=np.bool)\n",
    "mask[np.triu_indices_from(mask)] = True\n",
    "\n",
    "# Construimos la figura en matplotlib\n",
    "f, ax = plt.subplots(figsize=(11, 9))\n",
    "\n",
    "# Generamos el mapa de calor\n",
    "cmap = sns.diverging_palette(220, 10, as_cmap=True)\n",
    "\n",
    "# Dibujamos el mapa usando la máscara y añadiendo algunos parámetros que mejoran la visualización\n",
    "sns.heatmap(corr_matrix, mask=mask, cmap=cmap, vmax=1,vmin=-1, center=0, square=True, linewidths=.5, cbar_kws={\"shrink\": .5});"
   ]
  },
  {
   "cell_type": "markdown",
   "metadata": {},
   "source": [
    "A partir del mapa de calor podemos apreciar tres correlaciones especialmente marcadas:\n",
    "\n",
    "* La mortalidad infantil está directamente correlacionada con la tasa de fertilidad (0.84 de coeficiente de correlación) algo que es bastante coherente, los países con más natalidad suelen ser aquellos en los que se tienen más hijos en parte porque muchos no sobreviven y en parte por la falta de métodos de planificación familiar.\n",
    "\n",
    "* La mortalidad infantil está inversamente correlacionada con la esperanza de vida (-0.89 de coeficiente de correlación). Esto viene dado en sí por la definición de las variables, evidentemente si la tasa de mortalidad infantil baja significa que lo habitantes se mueren con más edad y por tanto aumenta la esperanza de vida.\n",
    "\n",
    "* El PIB está directamente correlacionado con los ingresos (0.90 de coeficiente de correlación) también de manera bastante trivial pues cuánta más riqueza tenga un país mayores serán los ingresos de sus habitantes.\n",
    "\n",
    "Otro coeficiente algo más bajo pero que sigue siendo bastante alto y me ha sorprendido es la correlación inversa (-0.76 ) entre la esperanza de vida y la tasa de fertilidad, algo que se ve actualmente muy reflejado en países como España o Japón."
   ]
  },
  {
   "cell_type": "markdown",
   "metadata": {},
   "source": [
    "En los siguientes notebooks continuaremos profundizando en la exploración de este dataset calculando primero las componentes principales y posteriormente segmentando en clusters."
   ]
  }
 ],
 "metadata": {
  "kernelspec": {
   "display_name": "Python 3",
   "language": "python",
   "name": "python3"
  },
  "language_info": {
   "codemirror_mode": {
    "name": "ipython",
    "version": 3
   },
   "file_extension": ".py",
   "mimetype": "text/x-python",
   "name": "python",
   "nbconvert_exporter": "python",
   "pygments_lexer": "ipython3",
   "version": "3.8.1"
  }
 },
 "nbformat": 4,
 "nbformat_minor": 4
}
