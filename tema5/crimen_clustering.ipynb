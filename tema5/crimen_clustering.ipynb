{
 "cells": [
  {
   "cell_type": "markdown",
   "metadata": {},
   "source": [
    "# Análisis Cluster: Crimen en USA"
   ]
  },
  {
   "cell_type": "markdown",
   "metadata": {},
   "source": [
    "En  este notebook vamos a proceder al cálculo de clusters para el dataset con información del crimen en USA. En este caso no nos apoyaremos en el cálculo de Componentes Principales hechos en el notebook anterior para generar dichos clusters, si no que los construiremos directamente sobre los datos."
   ]
  },
  {
   "cell_type": "markdown",
   "metadata": {},
   "source": [
    "<div>\n",
    "<img src=\"./media/crime.jpeg\" width=\"500\"/>\n",
    "</div>"
   ]
  },
  {
   "cell_type": "markdown",
   "metadata": {},
   "source": [
    "Comenzamos importando los módulos:"
   ]
  },
  {
   "cell_type": "code",
   "execution_count": null,
   "metadata": {},
   "outputs": [],
   "source": [
    "import pandas as pd\n",
    "import numpy as np\n",
    "import matplotlib.pyplot as plt\n",
    "import seaborn as sns"
   ]
  },
  {
   "cell_type": "markdown",
   "metadata": {},
   "source": [
    "Cargamos los datos en un dataframe:"
   ]
  },
  {
   "cell_type": "code",
   "execution_count": null,
   "metadata": {},
   "outputs": [],
   "source": [
    "raw_data = pd.read_csv('./data/USArrests.csv', index_col = 0)"
   ]
  },
  {
   "cell_type": "markdown",
   "metadata": {},
   "source": [
    "Como siempre nos aseguramos de que los datos se hayan cargado correctamente:"
   ]
  },
  {
   "cell_type": "code",
   "execution_count": null,
   "metadata": {},
   "outputs": [],
   "source": [
    "raw_data.head()"
   ]
  },
  {
   "cell_type": "code",
   "execution_count": null,
   "metadata": {},
   "outputs": [],
   "source": [
    "raw_data.shape"
   ]
  },
  {
   "cell_type": "markdown",
   "metadata": {},
   "source": [
    "De nuevo observamos que existen muchas diferencias entre las escalas de las variables por lo que pasamos como siempre a escalar los datos:"
   ]
  },
  {
   "cell_type": "code",
   "execution_count": null,
   "metadata": {},
   "outputs": [],
   "source": [
    "from sklearn.preprocessing import scale\n",
    "crime_data = pd.DataFrame(scale(raw_data), index=raw_data.index, columns=raw_data.columns)"
   ]
  },
  {
   "cell_type": "markdown",
   "metadata": {},
   "source": [
    "Con esto hemos generado nuestros datos escalados:"
   ]
  },
  {
   "cell_type": "code",
   "execution_count": null,
   "metadata": {},
   "outputs": [],
   "source": [
    "crime_data.head()"
   ]
  },
  {
   "cell_type": "markdown",
   "metadata": {},
   "source": [
    "Una vez hecho esto podemos comenzar el cálculo de los clusters.\n",
    "## Cluster no jerárquico"
   ]
  },
  {
   "cell_type": "markdown",
   "metadata": {},
   "source": [
    "Comenzamos construyendo nuestro gráfico de sedimentación que nos ayudará a determinar el número de clusters que deseamos extraer:"
   ]
  },
  {
   "cell_type": "code",
   "execution_count": null,
   "metadata": {},
   "outputs": [],
   "source": [
    "from sklearn.cluster import KMeans\n",
    "ssd = []\n",
    "for num_clusters in list(range(1,10)):\n",
    "    model_clus = KMeans(n_clusters = num_clusters, max_iter=50)\n",
    "    model_clus.fit(crime_data)\n",
    "    ssd.append(model_clus.inertia_)\n",
    "\n",
    "plt.plot(ssd)\n",
    "plt.show()"
   ]
  },
  {
   "cell_type": "markdown",
   "metadata": {},
   "source": [
    "La curva nos indica que pueden ser interesantes 1 o 3 clusters. Un cluster no aporta ningún tipo de información por lo que nos quedaremos con tres:"
   ]
  },
  {
   "cell_type": "code",
   "execution_count": null,
   "metadata": {},
   "outputs": [],
   "source": [
    "numero_clusters = 3"
   ]
  },
  {
   "cell_type": "markdown",
   "metadata": {},
   "source": [
    "Instanciamos el modelo pasando como parámetros el número de clusters, el máximo de iteraciones y una semilla aleatoria:"
   ]
  },
  {
   "cell_type": "code",
   "execution_count": null,
   "metadata": {},
   "outputs": [],
   "source": [
    "cluster_model = KMeans(n_clusters = numero_clusters, max_iter=50,random_state = 50)"
   ]
  },
  {
   "cell_type": "markdown",
   "metadata": {},
   "source": [
    "Una vez instanciado el modelo lo entrenamos con nuestros datos para obtener las etiquetas que asignan cada observación a un cluster:"
   ]
  },
  {
   "cell_type": "code",
   "execution_count": null,
   "metadata": {},
   "outputs": [],
   "source": [
    "cluster_model.fit(crime_data)"
   ]
  },
  {
   "cell_type": "code",
   "execution_count": null,
   "metadata": {},
   "outputs": [],
   "source": [
    "pd.Series(cluster_model.labels_)"
   ]
  },
  {
   "cell_type": "markdown",
   "metadata": {},
   "source": [
    "Una vez tenemos las etiquetas las unimos con nuestro dataframe inicial para poder explorar los clusters y sacar conclusiones a partir de los mismos:"
   ]
  },
  {
   "cell_type": "code",
   "execution_count": null,
   "metadata": {},
   "outputs": [],
   "source": [
    "df_no_index = raw_data"
   ]
  },
  {
   "cell_type": "code",
   "execution_count": null,
   "metadata": {},
   "outputs": [],
   "source": [
    "df_no_index.reset_index(level=0, inplace=True)"
   ]
  },
  {
   "cell_type": "markdown",
   "metadata": {},
   "source": [
    "Obtenemos el siguiente dataframe que asigna a cada estado sus métricas y su cluster resultante:"
   ]
  },
  {
   "cell_type": "code",
   "execution_count": null,
   "metadata": {},
   "outputs": [],
   "source": [
    "clustered_components = pd.concat([df_no_index, pd.Series(cluster_model.labels_)], axis=1)"
   ]
  },
  {
   "cell_type": "code",
   "execution_count": null,
   "metadata": {},
   "outputs": [],
   "source": [
    "cluster_no_jerar = clustered_components.set_index('index').rename(columns={0:'Cluster'})"
   ]
  },
  {
   "cell_type": "code",
   "execution_count": null,
   "metadata": {},
   "outputs": [],
   "source": [
    "cluster_no_jerar"
   ]
  },
  {
   "cell_type": "markdown",
   "metadata": {},
   "source": [
    "Exploramos ahora cada uno de los clusters para intentar interpretarlos:"
   ]
  },
  {
   "cell_type": "code",
   "execution_count": null,
   "metadata": {},
   "outputs": [],
   "source": [
    "cluster_no_jerar[cluster_no_jerar.Cluster==0].head(20)"
   ]
  },
  {
   "cell_type": "markdown",
   "metadata": {},
   "source": [
    "Parecen a simple vistas estados bastante neutros, podríamos pensar que son estados con una alta urbanización."
   ]
  },
  {
   "cell_type": "code",
   "execution_count": null,
   "metadata": {},
   "outputs": [],
   "source": [
    "cluster_no_jerar[cluster_no_jerar.Cluster==1].head(20)"
   ]
  },
  {
   "cell_type": "markdown",
   "metadata": {},
   "source": [
    "Parece que nos encontramos ante los estados con mayor índice de criminalidad, se observa especialmente lo elevadas que son las cifras de asalto superando los 200 casos en la mayoría de los estados."
   ]
  },
  {
   "cell_type": "code",
   "execution_count": null,
   "metadata": {},
   "outputs": [],
   "source": [
    "cluster_no_jerar[cluster_no_jerar.Cluster==2].head(20)"
   ]
  },
  {
   "cell_type": "markdown",
   "metadata": {},
   "source": [
    "En este último observamos los estados con menores índices de criminalidad en todos los aspectos de la misma (asalto, aseinato y violación)."
   ]
  },
  {
   "cell_type": "markdown",
   "metadata": {},
   "source": [
    "### Explorando los clusters\n",
    "\n",
    "Para asegurarnos que lo que teorizamos previamente es cierto calculamos las medias agregadas de cada cluster:"
   ]
  },
  {
   "cell_type": "code",
   "execution_count": null,
   "metadata": {},
   "outputs": [],
   "source": [
    "Cluster_Murder=pd.DataFrame(cluster_no_jerar.groupby([\"Cluster\"]).Murder.mean())\n",
    "Cluster_Assault=pd.DataFrame(cluster_no_jerar.groupby([\"Cluster\"]).Assault.mean())\n",
    "Cluster_UrbanPop=pd.DataFrame(cluster_no_jerar.groupby([\"Cluster\"]).UrbanPop.mean())\n",
    "Cluster_Rape=pd.DataFrame(cluster_no_jerar.groupby([\"Cluster\"]).Rape.mean())"
   ]
  },
  {
   "cell_type": "code",
   "execution_count": null,
   "metadata": {},
   "outputs": [],
   "source": [
    "aggregated_mean = pd.concat([Cluster_Murder,Cluster_Assault,Cluster_UrbanPop,Cluster_Rape], axis=1)"
   ]
  },
  {
   "cell_type": "code",
   "execution_count": null,
   "metadata": {},
   "outputs": [],
   "source": [
    "aggregated_mean"
   ]
  },
  {
   "cell_type": "markdown",
   "metadata": {},
   "source": [
    "Observamos que en el cluster 0 tenemos los estados intermedios. Son además los estados más urbanizados aunque en este aspecto están muy próximos a los estados del cluster 1."
   ]
  },
  {
   "cell_type": "code",
   "execution_count": null,
   "metadata": {},
   "outputs": [],
   "source": [
    "estados_intermedios = cluster_no_jerar[cluster_no_jerar.Cluster==0]"
   ]
  },
  {
   "cell_type": "markdown",
   "metadata": {},
   "source": [
    "El cluster 1 presenta los datos más alarmantes respecto a criminalidad en todos sus aspectos. Además su nivel de urbanización es también bastante elevado."
   ]
  },
  {
   "cell_type": "code",
   "execution_count": null,
   "metadata": {},
   "outputs": [],
   "source": [
    "estados_violentos = cluster_no_jerar[cluster_no_jerar.Cluster==1]"
   ]
  },
  {
   "cell_type": "markdown",
   "metadata": {},
   "source": [
    "En el cluster 2 se  encuentran los estados con mejores datos en los que se reducen sobre todo las cifras de asalto y violación. Esto puede deberse en parte a la disminución de la urbanización de los estados pues estos crímenes suelen producirse más habitualmente en las ciudades."
   ]
  },
  {
   "cell_type": "code",
   "execution_count": null,
   "metadata": {},
   "outputs": [],
   "source": [
    "estados_pacificos = cluster_no_jerar[cluster_no_jerar.Cluster==2]"
   ]
  },
  {
   "cell_type": "markdown",
   "metadata": {},
   "source": [
    "Podemos emplear gráficas de barras para visualizar la certitud de estas afirmaciones:"
   ]
  },
  {
   "cell_type": "code",
   "execution_count": null,
   "metadata": {},
   "outputs": [],
   "source": [
    "fig = plt.figure(figsize = (10,6))\n",
    "aggregated_mean.rename(index={0: 'Estados moderados'},inplace=True)\n",
    "aggregated_mean.rename(index={2: 'Estados pacíficos'},inplace=True)\n",
    "aggregated_mean.rename(index={1: 'Estados con más violencia'},inplace=True)\n",
    "\n",
    "s=sns.barplot(x=aggregated_mean.index,y='Murder',data=aggregated_mean)\n",
    "plt.xlabel('Estados', fontsize=10)\n",
    "plt.ylabel('Tasa de asesinatos', fontsize=10)\n",
    "plt.title('Estados en base al asesinato')\n",
    "plt.show()\n"
   ]
  },
  {
   "cell_type": "code",
   "execution_count": null,
   "metadata": {},
   "outputs": [],
   "source": [
    "fig = plt.figure(figsize = (10,6))\n",
    "sns.barplot(x=aggregated_mean.index,y='Assault',data=aggregated_mean)\n",
    "plt.xlabel('Estados', fontsize=10)\n",
    "plt.title('Estados en base al asalto')\n",
    "plt.show()"
   ]
  },
  {
   "cell_type": "code",
   "execution_count": null,
   "metadata": {},
   "outputs": [],
   "source": [
    "fig = plt.figure(figsize = (10,6))\n",
    "sns.barplot(x=aggregated_mean.index,y='Rape',data=aggregated_mean)\n",
    "plt.xlabel('Estados', fontsize=10)\n",
    "plt.title('Estados en base a la violación')\n",
    "plt.show()"
   ]
  },
  {
   "cell_type": "code",
   "execution_count": null,
   "metadata": {},
   "outputs": [],
   "source": [
    "fig = plt.figure(figsize = (10,6))\n",
    "sns.barplot(x=aggregated_mean.index,y='UrbanPop',data=aggregated_mean)\n",
    "plt.xlabel('Estados', fontsize=10)\n",
    "plt.title('Estados en base a la población')\n",
    "plt.show()"
   ]
  },
  {
   "cell_type": "markdown",
   "metadata": {},
   "source": [
    "Los gráficos de cajas pueden ser una buena referencia también para la obtención de conclusiones:"
   ]
  },
  {
   "cell_type": "code",
   "execution_count": null,
   "metadata": {},
   "outputs": [],
   "source": [
    "fig = plt.figure(figsize = (12,8))\n",
    "sns.boxplot(x='Cluster',y='Rape',data=cluster_no_jerar)\n",
    "plt.xlabel('Clusters', fontsize=10)\n",
    "plt.ylabel('Número de violaciones', fontsize=10)\n",
    "plt.title('Violación según el grupo')\n",
    "plt.show()"
   ]
  },
  {
   "cell_type": "code",
   "execution_count": null,
   "metadata": {},
   "outputs": [],
   "source": [
    "fig = plt.figure(figsize = (12,8))\n",
    "sns.boxplot(x='Cluster',y='Assault',data=cluster_no_jerar)\n",
    "plt.xlabel('Clusters', fontsize=10)\n",
    "plt.ylabel('Número de asaltos', fontsize=10)\n",
    "plt.title('Asalto según el grupo')\n",
    "plt.show()"
   ]
  },
  {
   "cell_type": "code",
   "execution_count": null,
   "metadata": {},
   "outputs": [],
   "source": [
    "fig = plt.figure(figsize = (12,8))\n",
    "sns.boxplot(x='Cluster',y='Murder',data=cluster_no_jerar)\n",
    "plt.xlabel('Clusters', fontsize=10)\n",
    "plt.ylabel('Número de asesiantos', fontsize=10)\n",
    "plt.title('Asesinatos según el grupo')\n",
    "plt.show()"
   ]
  },
  {
   "cell_type": "code",
   "execution_count": null,
   "metadata": {},
   "outputs": [],
   "source": [
    "fig = plt.figure(figsize = (12,8))\n",
    "sns.boxplot(x='Cluster',y='UrbanPop',data=cluster_no_jerar)\n",
    "plt.xlabel('Clusters', fontsize=10)\n",
    "plt.ylabel('Población', fontsize=10)\n",
    "plt.title('Población según el grupo')\n",
    "plt.show()"
   ]
  },
  {
   "cell_type": "markdown",
   "metadata": {},
   "source": [
    "Podemos además explorar los datos relativos a una variable dentro de un mismo cluster:"
   ]
  },
  {
   "cell_type": "code",
   "execution_count": null,
   "metadata": {},
   "outputs": [],
   "source": [
    "fig = plt.figure(figsize = (18,6))\n",
    "s=sns.barplot(x=estados_intermedios.index,y='Murder',data=estados_intermedios)\n",
    "s.set_xticklabels(s.get_xticklabels(),rotation=90)\n",
    "plt.xlabel('Estado', fontsize=10)\n",
    "plt.ylabel('Asesinatos', fontsize=10)\n",
    "plt.title('Asesinatos en los estados moderados')\n",
    "plt.show()"
   ]
  },
  {
   "cell_type": "code",
   "execution_count": null,
   "metadata": {},
   "outputs": [],
   "source": [
    "fig = plt.figure(figsize = (18,6))\n",
    "s=sns.barplot(x=estados_violentos.index,y='Murder',data=estados_violentos)\n",
    "s.set_xticklabels(s.get_xticklabels(),rotation=90)\n",
    "plt.xlabel('Estado', fontsize=10)\n",
    "plt.ylabel('Asesinatos', fontsize=10)\n",
    "plt.title('Asesinatos en los estados violentos')\n",
    "plt.show()"
   ]
  },
  {
   "cell_type": "code",
   "execution_count": null,
   "metadata": {},
   "outputs": [],
   "source": [
    "fig = plt.figure(figsize = (18,6))\n",
    "s=sns.barplot(x=estados_pacificos.index,y='Murder',data=estados_pacificos)\n",
    "s.set_xticklabels(s.get_xticklabels(),rotation=90)\n",
    "plt.xlabel('Estado', fontsize=10)\n",
    "plt.ylabel('Asesinatos', fontsize=10)\n",
    "plt.title('Asesinatos en los estados seguros')\n",
    "plt.show()"
   ]
  },
  {
   "cell_type": "markdown",
   "metadata": {},
   "source": [
    "Una vez construidos los clusters desde una perspectiva no jerárquica podemos realizar la comparación con su obtención desde  un clustering jerárquico."
   ]
  },
  {
   "cell_type": "markdown",
   "metadata": {},
   "source": [
    "## Clustering jerárquico"
   ]
  },
  {
   "cell_type": "markdown",
   "metadata": {},
   "source": [
    "Retomamos nuestros datos para el clustering, recordemos que en este caso estamos utilizando los datos escalados y no las componentes principales:"
   ]
  },
  {
   "cell_type": "code",
   "execution_count": null,
   "metadata": {},
   "outputs": [],
   "source": [
    "crime_data.head()"
   ]
  },
  {
   "cell_type": "markdown",
   "metadata": {},
   "source": [
    "Comenzamos construyendo el dendograma al que le pasamos el tipo de linkage: simple y el tipo de distancia: euclídea. "
   ]
  },
  {
   "cell_type": "code",
   "execution_count": null,
   "metadata": {},
   "outputs": [],
   "source": [
    "from scipy.cluster.hierarchy import linkage\n",
    "from scipy.cluster.hierarchy import dendrogram\n",
    "\n",
    "\n",
    "mergings_average=linkage(crime_data,method='single',metric='euclidean')\n",
    "fig = plt.figure(figsize = (34,15))\n",
    "dendrogram(mergings_average)\n",
    "plt.show()"
   ]
  },
  {
   "cell_type": "markdown",
   "metadata": {},
   "source": [
    "El dendograma parece genear clusters muy irregulares (siempre deja a un país aislado) por lo que probaremos con un linkage completo en lugar de simple:"
   ]
  },
  {
   "cell_type": "code",
   "execution_count": null,
   "metadata": {},
   "outputs": [],
   "source": [
    "mergings_complete=linkage(crime_data,method='complete',metric='euclidean')\n",
    "fig = plt.figure(figsize = (34,15))\n",
    "dendrogram(mergings_complete)\n",
    "plt.show()"
   ]
  },
  {
   "cell_type": "markdown",
   "metadata": {},
   "source": [
    "Este dendograma tiene mucho mejor aspecto. Parece interesante cortar a la altura cuatro donde se generaría cuatro clusters, para ello empleamos el método cut_tree:"
   ]
  },
  {
   "cell_type": "code",
   "execution_count": null,
   "metadata": {},
   "outputs": [],
   "source": [
    "from scipy.cluster.hierarchy import cut_tree\n",
    "etiquetas_cluster=cut_tree(mergings_complete,n_clusters=4).reshape(-1,)\n",
    "etiquetas_cluster"
   ]
  },
  {
   "cell_type": "markdown",
   "metadata": {},
   "source": [
    "Una vez generadas las etiquetas de los clusters podemos asociarlas como siempre a los datos para sacar conclusiones:"
   ]
  },
  {
   "cell_type": "code",
   "execution_count": null,
   "metadata": {},
   "outputs": [],
   "source": [
    "cluster_jerar = raw_data\n",
    "cluster_jerar['ClusterID'] = etiquetas_cluster"
   ]
  },
  {
   "cell_type": "code",
   "execution_count": null,
   "metadata": {},
   "outputs": [],
   "source": [
    "cluster_jerar.head()"
   ]
  },
  {
   "cell_type": "markdown",
   "metadata": {},
   "source": [
    "Una vez hecho esto procedemos a inspeccionar cada cluster para evaluar la calidad de las agrupaciones generadas:"
   ]
  },
  {
   "cell_type": "code",
   "execution_count": null,
   "metadata": {},
   "outputs": [],
   "source": [
    "cluster_jerar[cluster_jerar.ClusterID==0]"
   ]
  },
  {
   "cell_type": "markdown",
   "metadata": {},
   "source": [
    "Parece complicado definir las características de este cluster a simple vista:"
   ]
  },
  {
   "cell_type": "code",
   "execution_count": null,
   "metadata": {},
   "outputs": [],
   "source": [
    "cluster_jerar[cluster_jerar.ClusterID==1]"
   ]
  },
  {
   "cell_type": "markdown",
   "metadata": {},
   "source": [
    "Estos podrían ser los estados más urbanizados"
   ]
  },
  {
   "cell_type": "code",
   "execution_count": null,
   "metadata": {},
   "outputs": [],
   "source": [
    "cluster_jerar[cluster_jerar.ClusterID==2]"
   ]
  },
  {
   "cell_type": "markdown",
   "metadata": {},
   "source": [
    "Estos estados también parecen difícil de agrupar en un principio."
   ]
  },
  {
   "cell_type": "code",
   "execution_count": null,
   "metadata": {},
   "outputs": [],
   "source": [
    "cluster_jerar[cluster_jerar.ClusterID==3]"
   ]
  },
  {
   "cell_type": "markdown",
   "metadata": {},
   "source": [
    "Estos estados parecen los que menor ratio de criminalidad tienen."
   ]
  },
  {
   "cell_type": "markdown",
   "metadata": {},
   "source": [
    "Como la interpretación no ha sido sencilla vamos a calcular la media de cada variable agregada por cada cluster para intentar esclarecer más esta separación:"
   ]
  },
  {
   "cell_type": "code",
   "execution_count": null,
   "metadata": {},
   "outputs": [],
   "source": [
    "Cluster_Murder=pd.DataFrame(cluster_jerar.groupby([\"ClusterID\"]).Murder.mean())\n",
    "Cluster_Assault=pd.DataFrame(cluster_jerar.groupby([\"ClusterID\"]).Assault.mean())\n",
    "Cluster_UrbanPop=pd.DataFrame(cluster_jerar.groupby([\"ClusterID\"]).UrbanPop.mean())\n",
    "Cluster_Rape=pd.DataFrame(cluster_jerar.groupby([\"ClusterID\"]).Rape.mean())"
   ]
  },
  {
   "cell_type": "code",
   "execution_count": null,
   "metadata": {},
   "outputs": [],
   "source": [
    "media_agregada_jerar = pd.concat([Cluster_Murder,Cluster_Assault,Cluster_UrbanPop,Cluster_Rape], axis=1)"
   ]
  },
  {
   "cell_type": "code",
   "execution_count": null,
   "metadata": {},
   "outputs": [],
   "source": [
    "media_agregada_jerar"
   ]
  },
  {
   "cell_type": "markdown",
   "metadata": {},
   "source": [
    "* Con esta tabla podemos esclarecer algo más la separación generada. En el cluster 1 tenemos los estados más urbanizados con mayor ratio de asaltos y violaciones. La tasa de asesinato es así mismo bastante alta.\n",
    "\n",
    "* En el cluster 2 tenemos los estados más urbanizados con un crimen más moderado, se reducen drásticamente todos los tipos de crímenes respecto al cluster 1 mientras que la urbanización no baja tanto.\n",
    "\n",
    "* En el cluster 0 tenemos los estados menos urbanizados con mayor criminalidad, digamos que este cluster y el 3 agrupan los estados menos urbanizados recogiendo este a aquellos con mayor criminalidad.\n",
    "\n",
    "* Por último en el cluster 3 tenemos las tasas más bajas respecto a cualquier criminalidad así como la tasa más baja de urbanización. Son los estados menos urbanizados y más seguros."
   ]
  },
  {
   "cell_type": "code",
   "execution_count": null,
   "metadata": {},
   "outputs": [],
   "source": [
    "estados_poco_urbanos = cluster_jerar[cluster_jerar.ClusterID==0]"
   ]
  },
  {
   "cell_type": "code",
   "execution_count": null,
   "metadata": {},
   "outputs": [],
   "source": [
    "estados_urbanos = cluster_jerar[cluster_jerar.ClusterID==1]"
   ]
  },
  {
   "cell_type": "code",
   "execution_count": null,
   "metadata": {},
   "outputs": [],
   "source": [
    "estados_urbanos_seguros=cluster_jerar[cluster_jerar.ClusterID==2]"
   ]
  },
  {
   "cell_type": "code",
   "execution_count": null,
   "metadata": {},
   "outputs": [],
   "source": [
    "estados_poco_urbanos_seguros = cluster_jerar[cluster_jerar.ClusterID==3]"
   ]
  },
  {
   "cell_type": "markdown",
   "metadata": {},
   "source": [
    "Podemos apoyarnos en distintas gráficas para confirmar las conclusiones extraídas previamente:"
   ]
  },
  {
   "cell_type": "code",
   "execution_count": null,
   "metadata": {},
   "outputs": [],
   "source": [
    "fig = plt.figure(figsize = (10,6))\n",
    "media_agregada_jerar.rename(index={0: 'Estados poco urbanos'},inplace=True)\n",
    "media_agregada_jerar.rename(index={1: 'Estados urbanos'},inplace=True)\n",
    "media_agregada_jerar.rename(index={2: 'Estados urbanos seguros '},inplace=True)\n",
    "media_agregada_jerar.rename(index={3: 'Estados poco urbanos seguros '},inplace=True)\n",
    "s=sns.barplot(x=media_agregada_jerar.index,y='Murder',data=media_agregada_jerar)\n",
    "plt.xlabel('Estados', fontsize=10)\n",
    "plt.ylabel('Tasa de asesinatos', fontsize=10)\n",
    "plt.title('Estados en base al asesinato')\n",
    "plt.show()\n",
    "\n"
   ]
  },
  {
   "cell_type": "code",
   "execution_count": null,
   "metadata": {},
   "outputs": [],
   "source": [
    "fig = plt.figure(figsize = (10,6))\n",
    "s=sns.barplot(x=media_agregada_jerar.index,y='Assault',data=media_agregada_jerar)\n",
    "plt.xlabel('Estados', fontsize=10)\n",
    "plt.ylabel('Tasa de Asaltos', fontsize=10)\n",
    "plt.title('Estados en base al asalto')\n",
    "plt.show()\n",
    "\n"
   ]
  },
  {
   "cell_type": "code",
   "execution_count": null,
   "metadata": {},
   "outputs": [],
   "source": [
    "fig = plt.figure(figsize = (10,6))\n",
    "s=sns.barplot(x=media_agregada_jerar.index,y='UrbanPop',data=media_agregada_jerar)\n",
    "plt.xlabel('Estados', fontsize=10)\n",
    "plt.ylabel('Tasa de Población', fontsize=10)\n",
    "plt.title('Estados en base a la población')\n",
    "plt.show()\n",
    "\n",
    "\n"
   ]
  },
  {
   "cell_type": "code",
   "execution_count": null,
   "metadata": {},
   "outputs": [],
   "source": [
    "fig = plt.figure(figsize = (10,6))\n",
    "s=sns.barplot(x=media_agregada_jerar.index,y='Rape',data=media_agregada_jerar)\n",
    "plt.xlabel('Estados', fontsize=10)\n",
    "plt.ylabel('Tasa de Violaciones', fontsize=10)\n",
    "plt.title('Estados en base a la violación')\n",
    "plt.show()\n",
    "\n",
    "\n"
   ]
  },
  {
   "cell_type": "markdown",
   "metadata": {},
   "source": [
    "Los gráficos de cajas también nos permiten confirmar estas ideas:"
   ]
  },
  {
   "cell_type": "code",
   "execution_count": null,
   "metadata": {},
   "outputs": [],
   "source": [
    "fig = plt.figure(figsize = (12,8))\n",
    "sns.boxplot(x='ClusterID',y='Rape',data=cluster_jerar)\n",
    "plt.xlabel('Clusters', fontsize=10)\n",
    "plt.ylabel('Número de violaciones', fontsize=10)\n",
    "plt.title('Violación según el grupo')\n",
    "plt.show()"
   ]
  },
  {
   "cell_type": "code",
   "execution_count": null,
   "metadata": {},
   "outputs": [],
   "source": [
    "fig = plt.figure(figsize = (12,8))\n",
    "sns.boxplot(x='ClusterID',y='Assault',data=cluster_jerar)\n",
    "plt.xlabel('Clusters', fontsize=10)\n",
    "plt.ylabel('Número de asaltos', fontsize=10)\n",
    "plt.title('Asalto según el grupo')\n",
    "plt.show()"
   ]
  },
  {
   "cell_type": "code",
   "execution_count": null,
   "metadata": {},
   "outputs": [],
   "source": [
    "fig = plt.figure(figsize = (12,8))\n",
    "sns.boxplot(x='ClusterID',y='UrbanPop',data=cluster_jerar)\n",
    "plt.xlabel('Clusters', fontsize=10)\n",
    "plt.ylabel('Población', fontsize=10)\n",
    "plt.title('Población según el grupo')\n",
    "plt.show()"
   ]
  },
  {
   "cell_type": "code",
   "execution_count": null,
   "metadata": {},
   "outputs": [],
   "source": [
    "fig = plt.figure(figsize = (12,8))\n",
    "sns.boxplot(x='ClusterID',y='Murder',data=cluster_jerar)\n",
    "plt.xlabel('Clusters', fontsize=10)\n",
    "plt.ylabel('Número de asesinatos', fontsize=10)\n",
    "plt.title('Asesinato según el grupo')\n",
    "plt.show()"
   ]
  },
  {
   "cell_type": "markdown",
   "metadata": {},
   "source": [
    "Finalmente podemos observar como se distribuyen las variables por los estados asociados a cada cluster:"
   ]
  },
  {
   "cell_type": "code",
   "execution_count": null,
   "metadata": {},
   "outputs": [],
   "source": [
    "fig = plt.figure(figsize = (18,6))\n",
    "s=sns.barplot(x=estados_urbanos_seguros.columns[0],y='Murder',data=estados_urbanos_seguros)\n",
    "s.set_xticklabels(s.get_xticklabels(),rotation=90)\n",
    "plt.xlabel('Estados', fontsize=10)\n",
    "plt.ylabel('Asesinatos', fontsize=10)\n",
    "plt.title('Distribución de asesinatos en los estados urbanos seguros')\n",
    "plt.show()"
   ]
  },
  {
   "cell_type": "code",
   "execution_count": null,
   "metadata": {},
   "outputs": [],
   "source": [
    "fig = plt.figure(figsize = (18,6))\n",
    "s=sns.barplot(x=estados_urbanos_seguros.columns[0],y='Murder',data=estados_urbanos)\n",
    "s.set_xticklabels(s.get_xticklabels(),rotation=90)\n",
    "plt.xlabel('Estados', fontsize=10)\n",
    "plt.ylabel('Asesinatos', fontsize=10)\n",
    "plt.title('Distribución de asesinatos en los estados urbanos')\n",
    "plt.show()"
   ]
  },
  {
   "cell_type": "code",
   "execution_count": null,
   "metadata": {},
   "outputs": [],
   "source": [
    "fig = plt.figure(figsize = (18,6))\n",
    "s=sns.barplot(x=estados_urbanos_seguros.columns[0],y='Murder',data=estados_poco_urbanos_seguros)\n",
    "s.set_xticklabels(s.get_xticklabels(),rotation=90)\n",
    "plt.xlabel('Estados', fontsize=10)\n",
    "plt.ylabel('Asesinatos', fontsize=10)\n",
    "plt.title('Distribución de asesinatos en los estados poco urbanos seguros')\n",
    "plt.show()"
   ]
  },
  {
   "cell_type": "code",
   "execution_count": null,
   "metadata": {},
   "outputs": [],
   "source": [
    "fig = plt.figure(figsize = (18,6))\n",
    "s=sns.barplot(x=estados_urbanos_seguros.columns[0],y='Murder',data=estados_poco_urbanos)\n",
    "s.set_xticklabels(s.get_xticklabels(),rotation=90)\n",
    "plt.xlabel('Estados', fontsize=10)\n",
    "plt.ylabel('Asesinatos', fontsize=10)\n",
    "plt.title('Distribución de asesinatos en los estados poco urbanos')\n",
    "plt.show()"
   ]
  },
  {
   "cell_type": "markdown",
   "metadata": {},
   "source": [
    "## Conclusiones\n",
    "\n",
    "En este caso ambos clusters devuelven resultados muy interesantes, frente al caso de países donde solo el método no jerárquico devolvía resultados aceptables. Aunque ambos son buenos resultados me inclinaría por los resultados del método jerárqico en este caso por dos motivos:\n",
    "\n",
    "* Con cuatro clusters nos devuelve información no trivial como la separación de estados muy urbanizados con más y menos criminalidad mostrando que aunque el grado de urbanización está correlacionado con la criminalidad no es ni por asomo una correlación total y es posible encontrar estados urbanizados con poco crimen.\n",
    "\n",
    "* Al ser un método jerárquico podríamos profundizar más en el estudio realizando el corte más abajo en el dendograma y obteniendo un mayor número de clusters que podrían aportar nuevas informaciones de interés.\n",
    "\n",
    "Además el dendograma nos permite estudiar la proximidad de los estados que se encuentran en sí dentro del mismo cluster lo cual también puede resultar interesante."
   ]
  }
 ],
 "metadata": {
  "kernelspec": {
   "display_name": "Python 3",
   "language": "python",
   "name": "python3"
  },
  "language_info": {
   "codemirror_mode": {
    "name": "ipython",
    "version": 3
   },
   "file_extension": ".py",
   "mimetype": "text/x-python",
   "name": "python",
   "nbconvert_exporter": "python",
   "pygments_lexer": "ipython3",
   "version": "3.8.1"
  }
 },
 "nbformat": 4,
 "nbformat_minor": 4
}
