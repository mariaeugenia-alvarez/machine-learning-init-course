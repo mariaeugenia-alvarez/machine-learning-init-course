{
 "cells": [
  {
   "cell_type": "markdown",
   "metadata": {},
   "source": [
    "# Análisis Exploratorio USArrests\n",
    "\n",
    "En esta sección emplearemos la base de datos `USArrests` en la que se recoge información sobre el crimen en cada estado de Estados Unidos durante el año 1973. Comenzamos explorando esta base de datos para familiarizarnos con la información contenida en ella."
   ]
  },
  {
   "cell_type": "markdown",
   "metadata": {},
   "source": [
    "<div>\n",
    "<img src=\"./media/crime.jpeg\" width=\"500\"/>\n",
    "</div>"
   ]
  },
  {
   "cell_type": "markdown",
   "metadata": {},
   "source": [
    "Para el análisis exploratorio empleamos los siguientes módulos:"
   ]
  },
  {
   "cell_type": "code",
   "execution_count": null,
   "metadata": {},
   "outputs": [],
   "source": [
    "import pandas as pd\n",
    "import numpy as np\n",
    "import matplotlib.pyplot as plt\n",
    "import seaborn as sns"
   ]
  },
  {
   "cell_type": "markdown",
   "metadata": {},
   "source": [
    "Comenzamo cargando nuestros datos en un dataframe de pandas:"
   ]
  },
  {
   "cell_type": "code",
   "execution_count": null,
   "metadata": {},
   "outputs": [],
   "source": [
    "crime_data = pd.read_csv('./data/USArrests.csv', index_col = 0)"
   ]
  },
  {
   "cell_type": "markdown",
   "metadata": {},
   "source": [
    "Comprobamos que los datos se hayan cargado de manera correcta:"
   ]
  },
  {
   "cell_type": "code",
   "execution_count": null,
   "metadata": {},
   "outputs": [],
   "source": [
    "crime_data.head()"
   ]
  },
  {
   "cell_type": "markdown",
   "metadata": {},
   "source": [
    "Inspeccionamos las dimensiones de nuestros dataframe:"
   ]
  },
  {
   "cell_type": "code",
   "execution_count": null,
   "metadata": {},
   "outputs": [],
   "source": [
    "crime_data.shape"
   ]
  },
  {
   "cell_type": "markdown",
   "metadata": {},
   "source": [
    "Observamos que tiene 50 observaciones, algo bastante congruente, sabiendo que Estados Unidos se divide en 50 estados y 4 variables, a saber: Murder, Assault, UrbanPop y Rape.\n",
    "\n",
    "A continuación se presenta el diccionario de datos:"
   ]
  },
  {
   "cell_type": "markdown",
   "metadata": {},
   "source": [
    "## Diccinario de datos\n",
    "\n",
    "A continuación se explican las cuatro variables que componen este dataframe:\n",
    "\n",
    "* **Murder**.  Esta variable mide los asesinatos ocurridos por cada 100.000 habitantes.\n",
    "* **Assault**.  Esta variable mide los asaltos ocurridos por cada 100.000 habitantes.\n",
    "* **Rape**.  Esta variable mide las violaciones ocurridas por cada 100.000 habitantes.\n",
    "* **UrbanPop**.  Esta variable mide el porcentaje de la población que reside en ciudades."
   ]
  },
  {
   "cell_type": "markdown",
   "metadata": {},
   "source": [
    "## Valores perdidos\n",
    "\n",
    "Comprobamos si existen valores perdidos para alguna de las variables:"
   ]
  },
  {
   "cell_type": "code",
   "execution_count": null,
   "metadata": {},
   "outputs": [],
   "source": [
    "crime_data.info()"
   ]
  },
  {
   "cell_type": "markdown",
   "metadata": {},
   "source": [
    "Observamos que todas las variables se encuentran completas. No existen huecos en nuestra base de datos."
   ]
  },
  {
   "cell_type": "markdown",
   "metadata": {},
   "source": [
    "A excepción del índice todas las variables son numéricas. Como sabemos el índice de un DataFrame está formado por valores únicos (no pueden existir dos filas con el mismo índice) ergo no puede haber estados repetidos. \n",
    "\n",
    "Exploramos pues las variables numéricas."
   ]
  },
  {
   "cell_type": "markdown",
   "metadata": {},
   "source": [
    "## Estadísticos relevantes"
   ]
  },
  {
   "cell_type": "markdown",
   "metadata": {},
   "source": [
    "Comenzamos calculando los estadísticos más relevantes:"
   ]
  },
  {
   "cell_type": "code",
   "execution_count": null,
   "metadata": {},
   "outputs": [],
   "source": [
    "crime_data.describe()"
   ]
  },
  {
   "cell_type": "markdown",
   "metadata": {},
   "source": [
    "Vemos que en general son variables equilibradas (en el sentido de que la media y la mediana se encuentran bastante próximas). Observamos también en que se mueven en rangos muy distintos. La variable **UrbanPop** evidentemente se ve acotada por 100 por ser un porcentaje. Además observamos que los asaltos (**Assault**) son el crimen más frecuente siendo mucho más frecuentes que el asesinato (**Murder**) y la violación (**Rape**). Observamos que el asesinato es el crimen menos frecuente."
   ]
  },
  {
   "cell_type": "markdown",
   "metadata": {},
   "source": [
    "## Visualización de los datos\n",
    "\n",
    "A continuación construimos los histogramas de cada variable para familiarizarnos más con la base de datos:"
   ]
  },
  {
   "cell_type": "code",
   "execution_count": null,
   "metadata": {},
   "outputs": [],
   "source": [
    "def plot_quantitative_variables(dataframe, list_quantitative_columns):\n",
    "    for variable in list_quantitative_columns:\n",
    "        plt.figure()\n",
    "        dataframe[variable].plot(kind = 'hist', title=variable)"
   ]
  },
  {
   "cell_type": "code",
   "execution_count": null,
   "metadata": {},
   "outputs": [],
   "source": [
    "plot_quantitative_variables(crime_data, crime_data.columns)"
   ]
  },
  {
   "cell_type": "markdown",
   "metadata": {},
   "source": [
    "Aunque en un princio parecían variables equilibradas al representarlas vemos que no todas son campaniformes. La variable más próximma a una normal es la violación **Rape**.\n",
    "\n",
    "Para concluir nuestro análisis exploratorios y por tratarse de variables numéricas todas ellas es interesante construir la matriz de correlación."
   ]
  },
  {
   "cell_type": "markdown",
   "metadata": {},
   "source": [
    "## Matriz de correlación\n",
    "\n",
    "Calculamos como siempre la matriz de correlación:"
   ]
  },
  {
   "cell_type": "code",
   "execution_count": null,
   "metadata": {},
   "outputs": [],
   "source": [
    "corr_matrix = crime_data.corr()\n",
    "corr_matrix"
   ]
  },
  {
   "cell_type": "markdown",
   "metadata": {},
   "source": [
    "Observamos que el asesinato y el asalto están altamente correlacionada. Además observamos que la matriz no presenta ningún negativo, todos los crímenes se encuentran correlacionado positivamente, es decir, al aumentar alguno aumentan los demás. La menor correlación se encuentra asociada al porcentaje de población urbana, en la que solo se aprecia una ligera correlación con la violación. Podemos visualizar toda esta información mediante un mapa de calor:"
   ]
  },
  {
   "cell_type": "code",
   "execution_count": null,
   "metadata": {},
   "outputs": [],
   "source": [
    "# Construimos la figura en matplotlib\n",
    "f, ax = plt.subplots(figsize=(11, 9))\n",
    "\n",
    "# Generamos el mapa de calor\n",
    "cmap = sns.diverging_palette(220, 10, as_cmap=True)\n",
    "\n",
    "# Dibujamos el mapa usando la máscara y añadiendo algunos parámetros que mejoran la visualización\n",
    "sns.heatmap(corr_matrix, cmap=cmap, vmax=1,vmin=-1, center=0, square=True, linewidths=.5, cbar_kws={\"shrink\": .5});\n",
    "\n"
   ]
  },
  {
   "cell_type": "markdown",
   "metadata": {},
   "source": [
    "En los siguientes notebooks continuaremos profundizando en la exploración de este dataset calculando primero las componentes principales y posteriormente segmentando en clusters."
   ]
  }
 ],
 "metadata": {
  "kernelspec": {
   "display_name": "Python 3",
   "language": "python",
   "name": "python3"
  },
  "language_info": {
   "codemirror_mode": {
    "name": "ipython",
    "version": 3
   },
   "file_extension": ".py",
   "mimetype": "text/x-python",
   "name": "python",
   "nbconvert_exporter": "python",
   "pygments_lexer": "ipython3",
   "version": "3.8.1"
  }
 },
 "nbformat": 4,
 "nbformat_minor": 4
}
