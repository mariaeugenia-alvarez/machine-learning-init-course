{
 "cells": [
  {
   "cell_type": "markdown",
   "metadata": {},
   "source": [
    "# Análisis de Componentes Principales Crimen Estados Unidos\n",
    "\n",
    "En este notebook vamos a realizar el Análisis de Componentes Principales del dataset de crimen en Estados Unidos. Intentaremos graficar los datos para sacar algunas conclusiones junto el análisis cluster que se realizará en un notebook posterior."
   ]
  },
  {
   "cell_type": "markdown",
   "metadata": {},
   "source": [
    "<div>\n",
    "<img src=\"./media/crime.jpeg\" width=\"500\"/>\n",
    "</div>"
   ]
  },
  {
   "cell_type": "markdown",
   "metadata": {},
   "source": [
    "Para ello empleamos los siguientes módulos:"
   ]
  },
  {
   "cell_type": "code",
   "execution_count": null,
   "metadata": {},
   "outputs": [],
   "source": [
    "import pandas as pd\n",
    "import numpy as np\n",
    "import matplotlib.pyplot as plt"
   ]
  },
  {
   "cell_type": "markdown",
   "metadata": {},
   "source": [
    "Comenzamos cargando los datos:"
   ]
  },
  {
   "cell_type": "code",
   "execution_count": null,
   "metadata": {},
   "outputs": [],
   "source": [
    "crimen_data = pd.read_csv('./data/USArrests.csv', index_col = 0)"
   ]
  },
  {
   "cell_type": "markdown",
   "metadata": {},
   "source": [
    "Comprobamos que los datos se hayan cargado de manera adecuada:"
   ]
  },
  {
   "cell_type": "code",
   "execution_count": null,
   "metadata": {},
   "outputs": [],
   "source": [
    "crimen_data.head()"
   ]
  },
  {
   "cell_type": "code",
   "execution_count": null,
   "metadata": {},
   "outputs": [],
   "source": [
    "crimen_data.describe()"
   ]
  },
  {
   "cell_type": "code",
   "execution_count": null,
   "metadata": {},
   "outputs": [],
   "source": [
    "crimen_data.shape"
   ]
  },
  {
   "cell_type": "markdown",
   "metadata": {},
   "source": [
    "Observando el dataframe podemos ver que la escala de las variables es distinta en cada una por lo que será necesario escalarlas para poder calcular las componentes principales. Procedemos al escalado:"
   ]
  },
  {
   "cell_type": "code",
   "execution_count": null,
   "metadata": {},
   "outputs": [],
   "source": [
    "from sklearn.preprocessing import scale\n",
    "X_crime = pd.DataFrame(scale(crimen_data), index=crimen_data.index, columns=crimen_data.columns)"
   ]
  },
  {
   "cell_type": "code",
   "execution_count": null,
   "metadata": {},
   "outputs": [],
   "source": [
    "X_crime.head()"
   ]
  },
  {
   "cell_type": "markdown",
   "metadata": {},
   "source": [
    "El cálculo de los vectores de carga se encuentra automatizado por Scikit-Learn, basta importar el módulo necesario:"
   ]
  },
  {
   "cell_type": "code",
   "execution_count": null,
   "metadata": {},
   "outputs": [],
   "source": [
    "from sklearn.decomposition import PCA\n",
    "pca_loadings = pd.DataFrame(PCA().fit(X_crime).components_.T, index=X_crime.columns, columns=['V1', 'V2', 'V3', 'V4'])\n",
    "pca_loadings"
   ]
  },
  {
   "cell_type": "markdown",
   "metadata": {},
   "source": [
    "También podemos representar cada uno de los estados en las coordenadas generadas por las nuevas componentes:"
   ]
  },
  {
   "cell_type": "code",
   "execution_count": null,
   "metadata": {},
   "outputs": [],
   "source": [
    "pca = PCA()\n",
    "df_plot = pd.DataFrame(pca.fit_transform(X_crime), columns=['PC1', 'PC2', 'PC3', 'PC4'], index=X_crime.index)\n",
    "df_plot.head()"
   ]
  },
  {
   "cell_type": "markdown",
   "metadata": {},
   "source": [
    "En base a estas coordenadas y tomando solo las dos primeras componentes principales podemos visualizar los datos en un diagrama de dispersión en el que representamos también los vectores de carga:"
   ]
  },
  {
   "cell_type": "code",
   "execution_count": null,
   "metadata": {},
   "outputs": [],
   "source": [
    "fig , ax1 = plt.subplots(figsize=(20,10))\n",
    "ax1.set_xlim(-3.5,3.5)\n",
    "ax1.set_ylim(-3.5,3.5)\n",
    "# Represnetar las dos primeras componentes principales\n",
    "for i in df_plot.index:\n",
    "    ax1.annotate(i, (-df_plot.PC1.loc[i], -df_plot.PC2.loc[i]), ha='center')\n",
    "# Dibujar las líneas de referencia\n",
    "ax1.hlines(0,-3.5,3.5, linestyles='dotted', colors='grey')\n",
    "ax1.vlines(0,-3.5,3.5, linestyles='dotted', colors='grey')\n",
    "ax1.set_xlabel('Primera Componente Principal')\n",
    "ax1.set_ylabel('Segunda Componente Principal')\n",
    "# Construimos un segundo par de ejes para los vectores de carga\n",
    "ax2 = ax1.twinx().twiny()\n",
    "ax2.set_ylim(-1,1)\n",
    "ax2.set_xlim(-1,1)\n",
    "ax2.set_xlabel('En rojo: Vectores de carga de las componentes principales', color='red')\n",
    "# Colocamos las etiquetas de los vectores de carga\n",
    "a = 1.07\n",
    "for i in pca_loadings[['V1', 'V2']].index:\n",
    "    ax2.annotate(i, (-pca_loadings.V1.loc[i]*a, -pca_loadings.V2.loc[i]*a), color='red')\n",
    "# Representamos los vectores de cargas\n",
    "ax2.arrow(0,0,-pca_loadings.V1[0], -pca_loadings.V2[0])\n",
    "ax2.arrow(0,0,-pca_loadings.V1[1], -pca_loadings.V2[1])\n",
    "ax2.arrow(0,0,-pca_loadings.V1[2], -pca_loadings.V2[2])\n",
    "ax2.arrow(0,0,-pca_loadings.V1[3], -pca_loadings.V2[3]);"
   ]
  },
  {
   "cell_type": "markdown",
   "metadata": {},
   "source": [
    "### Hipótesis\n",
    "\n",
    "A partir de la representación de los datos sobre las dos primeras componentes principales podemos sacar las siguientes conclusiones:\n",
    "\n",
    "* La primera componente principal recoge principalmente información de las variables asalto, violación y asesinato. Digamos que esta primera componente estudia principalmente la criminalidad en los distintos estados.\n",
    "\n",
    "* La segunda componente principal sin embargo se ve principalmente influenciada por la variable UrbanPop mientras que las variables asociadas al crimen pierden importancia. Se podría decir que esta segunda componente principal expresa la urbanización de los estados (recordemos que UrbanPop es el porcentaje de población que vive en áreas urbanas).\n",
    "\n",
    "* Las variables de crimen se encuentran próximas y apuntan en la misma dirección, esto quiere decirnos que están correlacionadas (algo que ya vimos en el análisis exploratorio previo). La variable UrbanPop se encuentra bastante separada lo cual indica una menor correlación aunque sigue apuntando en la misma dirección por lo que la correlación seguirá siendo directa.\n",
    "\n",
    "* Cabe suponer que los estados  que se encuentran próximos en la representación tendrán indices similares de criminalidad y urbanización.\n",
    "\n",
    "Estas son las principales hipótesis que podemos plantear simplemente visualizando la representación de los datos sobre las dos primeras componentes principales. Para evaluar la validez de estas hipótesis debemos comprobar cuánta varianza explican estas dos primeras componentes principales."
   ]
  },
  {
   "cell_type": "markdown",
   "metadata": {},
   "source": [
    "Podemos observar a partir del modelo cuánta varianza explica cada componente:"
   ]
  },
  {
   "cell_type": "code",
   "execution_count": null,
   "metadata": {},
   "outputs": [],
   "source": [
    "pca.explained_variance_"
   ]
  },
  {
   "cell_type": "markdown",
   "metadata": {},
   "source": [
    "Si preferimos el ratio de varianza (suele ser más sencillo e indicativo) también está disponible:"
   ]
  },
  {
   "cell_type": "code",
   "execution_count": null,
   "metadata": {},
   "outputs": [],
   "source": [
    "pca.explained_variance_ratio_"
   ]
  },
  {
   "cell_type": "markdown",
   "metadata": {},
   "source": [
    "También podemos calcular la proporción de varianza acumulada:"
   ]
  },
  {
   "cell_type": "code",
   "execution_count": null,
   "metadata": {},
   "outputs": [],
   "source": [
    "np.cumsum(pca.explained_variance_ratio_)"
   ]
  },
  {
   "cell_type": "markdown",
   "metadata": {},
   "source": [
    "Construimos ambos gráficos de sedimentación:"
   ]
  },
  {
   "cell_type": "code",
   "execution_count": null,
   "metadata": {},
   "outputs": [],
   "source": [
    "plt.figure(figsize=(7,5))\n",
    "plt.plot([1,2,3,4], pca.explained_variance_ratio_, '-o')\n",
    "plt.ylabel('Proporción de varianza explicada')\n",
    "plt.xlabel('Componente Principal')\n",
    "plt.xlim(0.75,4.25)\n",
    "plt.ylim(0,1.05)\n",
    "plt.xticks([1,2,3,4]);"
   ]
  },
  {
   "cell_type": "code",
   "execution_count": null,
   "metadata": {},
   "outputs": [],
   "source": [
    "plt.figure(figsize=(7,5))\n",
    "plt.plot([1,2,3,4], np.cumsum(pca.explained_variance_ratio_), '-s')\n",
    "plt.ylabel('Proporción de varianza explicada acumulada')\n",
    "plt.xlabel('Componente Principal')\n",
    "plt.xlim(0.75,4.25)\n",
    "plt.ylim(0,1.05)\n",
    "plt.xticks([1,2,3,4]);"
   ]
  },
  {
   "cell_type": "markdown",
   "metadata": {},
   "source": [
    "Observamos que con solo dos componentes estamos expresando el 86% de la información del dataset por lo que las conclusiones sacadas de nuestro estudio de la gráfica son altamente fiables. Además observamos que el número ideal de componentes principales a calcular será 2 o 3 dependiendo de la cantidad de información que nos propongamos expresar."
   ]
  }
 ],
 "metadata": {
  "kernelspec": {
   "display_name": "Python 3",
   "language": "python",
   "name": "python3"
  },
  "language_info": {
   "codemirror_mode": {
    "name": "ipython",
    "version": 3
   },
   "file_extension": ".py",
   "mimetype": "text/x-python",
   "name": "python",
   "nbconvert_exporter": "python",
   "pygments_lexer": "ipython3",
   "version": "3.8.1"
  }
 },
 "nbformat": 4,
 "nbformat_minor": 4
}
