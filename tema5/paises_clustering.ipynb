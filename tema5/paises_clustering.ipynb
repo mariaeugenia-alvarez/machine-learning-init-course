{
 "cells": [
  {
   "cell_type": "markdown",
   "metadata": {},
   "source": [
    "# Análisis Cluster: Países del Mundo"
   ]
  },
  {
   "cell_type": "markdown",
   "metadata": {},
   "source": [
    "En  este notebook vamos a proceder al cálculo de clusters para el dataset con información de los distintos países. Nos apoyaremos en el cálculo de Componentes Principales hechos en el notebook anterior para generar dichos clusters, por lo que la primera parte de este notebook será idéntica al anterior."
   ]
  },
  {
   "cell_type": "markdown",
   "metadata": {},
   "source": [
    "<div>\n",
    "<img src=\"./media/mapamundi.jpg\" width=\"500\"/>\n",
    "</div>"
   ]
  },
  {
   "cell_type": "markdown",
   "metadata": {},
   "source": [
    "Comenzamos importando los módulos:"
   ]
  },
  {
   "cell_type": "code",
   "execution_count": null,
   "metadata": {},
   "outputs": [],
   "source": [
    "import pandas as pd\n",
    "import numpy as np\n",
    "import matplotlib.pyplot as plt\n",
    "import seaborn as sns"
   ]
  },
  {
   "cell_type": "markdown",
   "metadata": {},
   "source": [
    "Comenzamos cargando los datos en un dataframe:"
   ]
  },
  {
   "cell_type": "code",
   "execution_count": null,
   "metadata": {},
   "outputs": [],
   "source": [
    "paises_data = pd.read_csv('./data/country_data.csv', index_col = 0)"
   ]
  },
  {
   "cell_type": "markdown",
   "metadata": {},
   "source": [
    "Como siempre nos aseguramos de que los datos se hayan cargado correctamente:"
   ]
  },
  {
   "cell_type": "code",
   "execution_count": null,
   "metadata": {},
   "outputs": [],
   "source": [
    "paises_data.head()"
   ]
  },
  {
   "cell_type": "code",
   "execution_count": null,
   "metadata": {},
   "outputs": [],
   "source": [
    "paises_data.shape"
   ]
  },
  {
   "cell_type": "markdown",
   "metadata": {},
   "source": [
    "De nuevo observamos que existen muchas diferencias entre las escalas de las variables por lo que pasamos como siempre a escalar los datos:"
   ]
  },
  {
   "cell_type": "code",
   "execution_count": null,
   "metadata": {},
   "outputs": [],
   "source": [
    "from sklearn.preprocessing import scale\n",
    "X_paises = pd.DataFrame(scale(paises_data), index=paises_data.index, columns=paises_data.columns)"
   ]
  },
  {
   "cell_type": "markdown",
   "metadata": {},
   "source": [
    "Con esto hemos generado nuestros datos escalados:"
   ]
  },
  {
   "cell_type": "code",
   "execution_count": null,
   "metadata": {},
   "outputs": [],
   "source": [
    "X_paises.head()"
   ]
  },
  {
   "cell_type": "markdown",
   "metadata": {},
   "source": [
    "Una vez hecho esto podemos comenzar calculando nuestros vectores de carga:"
   ]
  },
  {
   "cell_type": "markdown",
   "metadata": {},
   "source": [
    "Tenemos en total 9 componentes pricipales. Esto era de esperar pues si recordamos nuestro dataframe tiene 167 observaciones y 9 variables luego tendremos un total de min (167-1,9) componentes principales.\n",
    "\n",
    "Podemos construir una tabla en la que vemos como se proyectan los países sobre las nuevas coordenadas:"
   ]
  },
  {
   "cell_type": "code",
   "execution_count": null,
   "metadata": {},
   "outputs": [],
   "source": [
    "from sklearn.decomposition import PCA\n",
    "pca = PCA()\n",
    "df_plot = pd.DataFrame(pca.fit_transform(X_paises), columns=['PC1', 'PC2', 'PC3', 'PC4', 'PC5', 'PC6', 'PC7', 'PC8', 'PC9'], index=X_paises.index)\n",
    "df_plot.head()"
   ]
  },
  {
   "cell_type": "markdown",
   "metadata": {},
   "source": [
    "Para evaluar la calidad de este modelo podemos comprobar cuánta varianza se explica en cada componente:"
   ]
  },
  {
   "cell_type": "code",
   "execution_count": null,
   "metadata": {},
   "outputs": [],
   "source": [
    "pca.explained_variance_"
   ]
  },
  {
   "cell_type": "markdown",
   "metadata": {},
   "source": [
    "El número fuera de contexto puede resultar confuso por lo que observamos en su lugar el ratio de varianza explicada:"
   ]
  },
  {
   "cell_type": "code",
   "execution_count": null,
   "metadata": {},
   "outputs": [],
   "source": [
    "pca.explained_variance_ratio_"
   ]
  },
  {
   "cell_type": "markdown",
   "metadata": {},
   "source": [
    "Puede resultar interesante también observar la suma acumulada de estos ratios:"
   ]
  },
  {
   "cell_type": "code",
   "execution_count": null,
   "metadata": {},
   "outputs": [],
   "source": [
    "np.cumsum(pca.explained_variance_ratio_)"
   ]
  },
  {
   "cell_type": "markdown",
   "metadata": {},
   "source": [
    "Visualizamos este último dato mediante un gráfico:"
   ]
  },
  {
   "cell_type": "markdown",
   "metadata": {},
   "source": [
    "Personalmente a la hora de elegir el número de componentes siempre me ha parecido más intuitivo el gráfico de varianza acumulada:"
   ]
  },
  {
   "cell_type": "code",
   "execution_count": null,
   "metadata": {},
   "outputs": [],
   "source": [
    "plt.figure(figsize=(7,5))\n",
    "plt.plot([1,2,3,4,5,6,7,8,9], np.cumsum(pca.explained_variance_ratio_), '-s')\n",
    "plt.ylabel('Proporción de varianza explicada acumulada')\n",
    "plt.xlabel('Componentes Principales')\n",
    "plt.xlim(0.75,4.25)\n",
    "plt.ylim(0,1.05)\n",
    "plt.xticks([1,2,3,4,5,6,7,8,9]);"
   ]
  },
  {
   "cell_type": "markdown",
   "metadata": {},
   "source": [
    "En el notebook previo vimos que con esta información llegaba el momento de calcular el número de componentes principales adecuado. Observamos que con las primeras 5 componentes, estamos expresando casi el total de la varianza (un 95%) por lo que emplearemos cinco componentes principales:"
   ]
  },
  {
   "cell_type": "code",
   "execution_count": null,
   "metadata": {},
   "outputs": [],
   "source": [
    "df_cluster = df_plot[['PC1', 'PC2', 'PC3', 'PC4', 'PC5']]\n",
    "df_cluster.head()"
   ]
  },
  {
   "cell_type": "markdown",
   "metadata": {},
   "source": [
    "Una vez ya hemos extraído las componentes principales y hemos decidido quedarnos con cinco procedemos a la división en clusters. Comenzaremos con el clustering no jerárquizado."
   ]
  },
  {
   "cell_type": "markdown",
   "metadata": {},
   "source": [
    "## Cluster no jerárquico\n",
    "\n",
    "Existen varios métodos de clustering no jerarquizado pero el más popular sin lugar a dudas es el método K-means  que ya hemos estudiado en la parte teórica de esta sección. A continuación procedemos a su implementación.\n",
    "\n",
    "Como sabemos en los métodos no jérarquicos debemos decidir a priori el número de clusters, para tomar dichas decisión podemos basarnos en los gráficos de sedimentación:"
   ]
  },
  {
   "cell_type": "code",
   "execution_count": null,
   "metadata": {},
   "outputs": [],
   "source": [
    "from sklearn.cluster import KMeans\n",
    "ssd = []\n",
    "for num_clusters in list(range(1,10)):\n",
    "    model_clus = KMeans(n_clusters = num_clusters, max_iter=50)\n",
    "    model_clus.fit(df_cluster)\n",
    "    ssd.append(model_clus.inertia_)\n",
    "\n",
    "plt.plot(ssd)\n",
    "plt.show()"
   ]
  },
  {
   "cell_type": "markdown",
   "metadata": {},
   "source": [
    "La curva nos indica que pueden ser interesantes 3 clusters o 5. Elegiré 3 clusters pero puede ser interesante como ejercicio estudiar que ocurre si tomamos cinco:"
   ]
  },
  {
   "cell_type": "code",
   "execution_count": null,
   "metadata": {},
   "outputs": [],
   "source": [
    "numero_clusters = 3"
   ]
  },
  {
   "cell_type": "markdown",
   "metadata": {},
   "source": [
    "Instanciamos el modelo fijando el número máximo de iteraciones y el número máximo de clusters así como una semilla aleatoria cuyo propósito ya vimos en la sección previa:"
   ]
  },
  {
   "cell_type": "code",
   "execution_count": null,
   "metadata": {},
   "outputs": [],
   "source": [
    "cluster_model = KMeans(n_clusters = numero_clusters, max_iter=50,random_state = 50)"
   ]
  },
  {
   "cell_type": "markdown",
   "metadata": {},
   "source": [
    "Una vez instanciado el modelo lo ajustamos sobre nuestros datos:"
   ]
  },
  {
   "cell_type": "code",
   "execution_count": null,
   "metadata": {},
   "outputs": [],
   "source": [
    "cluster_model.fit(df_cluster)"
   ]
  },
  {
   "cell_type": "markdown",
   "metadata": {},
   "source": [
    "Podemos observar las etiquetas generadas para cada observación:"
   ]
  },
  {
   "cell_type": "code",
   "execution_count": null,
   "metadata": {},
   "outputs": [],
   "source": [
    "pd.Series(cluster_model.labels_)"
   ]
  },
  {
   "cell_type": "markdown",
   "metadata": {},
   "source": [
    "Unimos las etiquetas con los datos de las componentes principales con las que fueron calculados:"
   ]
  },
  {
   "cell_type": "code",
   "execution_count": null,
   "metadata": {},
   "outputs": [],
   "source": [
    "df_no_index = df_cluster"
   ]
  },
  {
   "cell_type": "code",
   "execution_count": null,
   "metadata": {},
   "outputs": [],
   "source": [
    "df_no_index.reset_index(level=0, inplace=True)"
   ]
  },
  {
   "cell_type": "code",
   "execution_count": null,
   "metadata": {},
   "outputs": [],
   "source": [
    "clustered_components = pd.concat([df_no_index, pd.Series(cluster_model.labels_)], axis=1)"
   ]
  },
  {
   "cell_type": "code",
   "execution_count": null,
   "metadata": {},
   "outputs": [],
   "source": [
    "clustered_components.rename(columns={0:'Cluster'})"
   ]
  },
  {
   "cell_type": "markdown",
   "metadata": {},
   "source": [
    "Con fines de interpretación unimos dicha etiqueta de cluster con los datos iniciales para poder estudiar las características de los clusters más cómodamente:"
   ]
  },
  {
   "cell_type": "code",
   "execution_count": null,
   "metadata": {},
   "outputs": [],
   "source": [
    "merging_data = pd.merge(paises_data, clustered_components.set_index('country'), left_index=True,right_index=True).rename(columns={0:'Cluster'})"
   ]
  },
  {
   "cell_type": "code",
   "execution_count": null,
   "metadata": {},
   "outputs": [],
   "source": [
    "merging_data.head()"
   ]
  },
  {
   "cell_type": "code",
   "execution_count": null,
   "metadata": {},
   "outputs": [],
   "source": [
    "interpretable_data = merging_data[['child_mort', 'exports', 'health', 'imports', 'income', 'inflation', 'life_expec', 'total_fer', 'gdpp', 'Cluster']]"
   ]
  },
  {
   "cell_type": "markdown",
   "metadata": {},
   "source": [
    "Estos son nuestros datos interpretables:"
   ]
  },
  {
   "cell_type": "code",
   "execution_count": null,
   "metadata": {},
   "outputs": [],
   "source": [
    "interpretable_data.head()"
   ]
  },
  {
   "cell_type": "markdown",
   "metadata": {},
   "source": [
    "Podemos ir inspeccionando cluster por cluster:"
   ]
  },
  {
   "cell_type": "code",
   "execution_count": null,
   "metadata": {},
   "outputs": [],
   "source": [
    "interpretable_data[interpretable_data.Cluster==0].head(20)"
   ]
  },
  {
   "cell_type": "markdown",
   "metadata": {},
   "source": [
    "En este primer cluster observamos que nos encontramos con países desarrollados en los que observamos por ejemplo altos ingresos y una tasa de mortalidad infantil relativamente baja. Podemos agruparlos en un dataframe:"
   ]
  },
  {
   "cell_type": "code",
   "execution_count": null,
   "metadata": {},
   "outputs": [],
   "source": [
    "paises_desarrollados = interpretable_data[interpretable_data.Cluster==0]"
   ]
  },
  {
   "cell_type": "code",
   "execution_count": null,
   "metadata": {},
   "outputs": [],
   "source": [
    "interpretable_data[interpretable_data.Cluster==1].head(20)"
   ]
  },
  {
   "cell_type": "markdown",
   "metadata": {},
   "source": [
    "En este segundo cluster observamos los países menos desarrollados con una tasa de mortalidad infantil muy elevada y un PIB muy bajo. Podemos agruparlos en un dataframe. que posteriormente exploraremos:"
   ]
  },
  {
   "cell_type": "code",
   "execution_count": null,
   "metadata": {},
   "outputs": [],
   "source": [
    "paises_no_desarrollados = interpretable_data[interpretable_data.Cluster==1]"
   ]
  },
  {
   "cell_type": "code",
   "execution_count": null,
   "metadata": {},
   "outputs": [],
   "source": [
    "interpretable_data[interpretable_data.Cluster==2].head(20)"
   ]
  },
  {
   "cell_type": "markdown",
   "metadata": {},
   "source": [
    "Este último cluster agrupa los países intermedios, algunos de ellos se suelen definir como países en vía de desarrollo por la literatura.\n",
    "\n",
    "Observamos que los clusters no son perfectos,  por ejemplo, países como Argentina o Chile quizás irían mejor en nuestro primer cluster que en este. Esta es la parte negativa de la flexibilidad  de los métodos no supervisados."
   ]
  },
  {
   "cell_type": "code",
   "execution_count": null,
   "metadata": {},
   "outputs": [],
   "source": [
    "paises_en_desarrollo = interpretable_data[interpretable_data.Cluster==2]"
   ]
  },
  {
   "cell_type": "markdown",
   "metadata": {},
   "source": [
    "## Explorando los clusters"
   ]
  },
  {
   "cell_type": "markdown",
   "metadata": {},
   "source": [
    "Para comprender mejor los clusters podemos calcular la media agregada de cada variable por cluster:"
   ]
  },
  {
   "cell_type": "code",
   "execution_count": null,
   "metadata": {},
   "outputs": [],
   "source": [
    "Cluster_GDPP=pd.DataFrame(interpretable_data.groupby([\"Cluster\"]).gdpp.mean())\n",
    "Cluster_child_mort=pd.DataFrame(interpretable_data.groupby([\"Cluster\"]).child_mort.mean())\n",
    "Cluster_exports=pd.DataFrame(interpretable_data.groupby([\"Cluster\"]).exports.mean())\n",
    "Cluster_income=pd.DataFrame(interpretable_data.groupby([\"Cluster\"]).income.mean())\n",
    "Cluster_health=pd.DataFrame(interpretable_data.groupby([\"Cluster\"]).health.mean())\n",
    "Cluster_imports=pd.DataFrame(interpretable_data.groupby([\"Cluster\"]).imports.mean())\n",
    "Cluster_inflation=pd.DataFrame(interpretable_data.groupby([\"Cluster\"]).inflation.mean())\n",
    "Cluster_life_expec=pd.DataFrame(interpretable_data.groupby([\"Cluster\"]).life_expec.mean())\n",
    "Cluster_total_fer=pd.DataFrame(interpretable_data.groupby([\"Cluster\"]).total_fer.mean())"
   ]
  },
  {
   "cell_type": "code",
   "execution_count": null,
   "metadata": {},
   "outputs": [],
   "source": [
    "aggregated_mean = pd.concat([Cluster_GDPP,Cluster_child_mort,Cluster_income,Cluster_exports,Cluster_health,\n",
    "                Cluster_imports,Cluster_inflation,Cluster_life_expec,Cluster_total_fer], axis=1)"
   ]
  },
  {
   "cell_type": "code",
   "execution_count": null,
   "metadata": {},
   "outputs": [],
   "source": [
    "aggregated_mean"
   ]
  },
  {
   "cell_type": "markdown",
   "metadata": {},
   "source": [
    "Observamos como el primer cluster (cluster 0) formado por los llamados países desarrollados aglutina los mayores PIB e ingresos junto con la mayor esperanza de vida y una mortalidad infantil relativamente baja. También tiene una tasa de fertilidad muy baja. \n",
    "\n",
    "El cluster 1 dispara la mortalidad infantil y también la tasa de fertilidad (ya vimos que estaban correlacionadas). También sube la inflación mientras que se desploman el PIB y la esperanza de vida.\n",
    "\n",
    "En el último cluster (cluster 2) observamos que la esperanza de vida es bastante alta y en general resulta un punto intermedio entre los otros dos clusters.\n",
    "\n",
    "Podemos construir gráficos de barras para observar cómo se distribuyen algunas varibles según el cluster:"
   ]
  },
  {
   "cell_type": "code",
   "execution_count": null,
   "metadata": {},
   "outputs": [],
   "source": [
    "fig = plt.figure(figsize = (10,6))\n",
    "aggregated_mean.rename(index={0: 'Países desarrollados'},inplace=True)\n",
    "aggregated_mean.rename(index={2: 'Países en vía de desarrollo'},inplace=True)\n",
    "aggregated_mean.rename(index={1: 'Países subdesarrollados'},inplace=True)\n",
    "\n",
    "s=sns.barplot(x=aggregated_mean.index,y='gdpp',data=aggregated_mean)\n",
    "plt.xlabel('Clusters de países', fontsize=10)\n",
    "plt.ylabel('PIB per Capita', fontsize=10)\n",
    "plt.title('Clusters en base al PIB')\n",
    "plt.show()\n"
   ]
  },
  {
   "cell_type": "code",
   "execution_count": null,
   "metadata": {},
   "outputs": [],
   "source": [
    "fig = plt.figure(figsize = (10,6))\n",
    "sns.barplot(x=aggregated_mean.index,y='child_mort',data=aggregated_mean)\n",
    "plt.xlabel('Clusters de países', fontsize=10)\n",
    "plt.ylabel('Mortalidad infantil', fontsize=10)\n",
    "plt.title('Clusters en base a la mortalidad infantil')\n",
    "plt.show()"
   ]
  },
  {
   "cell_type": "markdown",
   "metadata": {},
   "source": [
    "Con esta misma idea se pueden construir gráficos de cajas:"
   ]
  },
  {
   "cell_type": "code",
   "execution_count": null,
   "metadata": {},
   "outputs": [],
   "source": [
    "fig = plt.figure(figsize = (12,8))\n",
    "sns.boxplot(x='Cluster',y='income',data=interpretable_data)\n",
    "plt.xlabel('Clusters de países', fontsize=10)\n",
    "plt.ylabel('Ingresos', fontsize=10)\n",
    "plt.title('Ingresos per capita de cada cluster')\n",
    "plt.show()"
   ]
  },
  {
   "cell_type": "markdown",
   "metadata": {},
   "source": [
    "También podemos observar como se distribuye una variable dentro de las observaciones agrupadas en un mimsmo cluster:"
   ]
  },
  {
   "cell_type": "code",
   "execution_count": null,
   "metadata": {},
   "outputs": [],
   "source": [
    "fig = plt.figure(figsize = (18,6))\n",
    "s=sns.barplot(x=paises_desarrollados.index,y='child_mort',data=paises_desarrollados)\n",
    "s.set_xticklabels(s.get_xticklabels(),rotation=90)\n",
    "plt.xlabel('País', fontsize=10)\n",
    "plt.ylabel('Mortalidad infantil', fontsize=10)\n",
    "plt.title('Mortalidad infantil en países desarrollados ')\n",
    "plt.show()"
   ]
  },
  {
   "cell_type": "code",
   "execution_count": null,
   "metadata": {},
   "outputs": [],
   "source": [
    "fig = plt.figure(figsize = (18,6))\n",
    "s=sns.barplot(x=paises_no_desarrollados.index,y='child_mort',data=paises_no_desarrollados)\n",
    "s.set_xticklabels(s.get_xticklabels(),rotation=90)\n",
    "plt.xlabel('País', fontsize=10)\n",
    "plt.ylabel('Mortalidad infantil', fontsize=10)\n",
    "plt.title('Mortalidad infantil en países subdesarrollados  ')\n",
    "plt.show()"
   ]
  },
  {
   "cell_type": "markdown",
   "metadata": {},
   "source": [
    "Estos gráficos podrían constituir un buen informe por ejemplo para una institución que esté buscando en qué países puede ser más interesante implantar programas de ayuda para la población y en qué tipo de problemas podrían centrarse estos programas.\n",
    "\n",
    "A continuación construiremos un clustering jerarquizado para ver cuál arroja mejores resultados."
   ]
  },
  {
   "cell_type": "markdown",
   "metadata": {},
   "source": [
    "## Clustering jerárquico"
   ]
  },
  {
   "cell_type": "markdown",
   "metadata": {},
   "source": [
    "Retomamos los datos de las componentes principales:"
   ]
  },
  {
   "cell_type": "code",
   "execution_count": null,
   "metadata": {},
   "outputs": [],
   "source": [
    "df_cluster"
   ]
  },
  {
   "cell_type": "markdown",
   "metadata": {},
   "source": [
    "Comenzamos construyendo un primer dendograma en el que usamos como linkage el método simple. Como distancia especificamos la euclíea:"
   ]
  },
  {
   "cell_type": "code",
   "execution_count": null,
   "metadata": {},
   "outputs": [],
   "source": [
    "from scipy.cluster.hierarchy import linkage\n",
    "from scipy.cluster.hierarchy import dendrogram\n",
    "\n",
    "\n",
    "mergings_average=linkage(df_cluster.set_index('country'),method='single',metric='euclidean')\n",
    "fig = plt.figure(figsize = (34,15))\n",
    "dendrogram(mergings_average)\n",
    "plt.show()"
   ]
  },
  {
   "cell_type": "markdown",
   "metadata": {},
   "source": [
    "En un principio no parece muy buena idea, va cogiendo siempre clusters con países sueltos. Probamos un tipo distinto de vínculo, por ejemplo el completo:"
   ]
  },
  {
   "cell_type": "code",
   "execution_count": null,
   "metadata": {},
   "outputs": [],
   "source": [
    "mergings_complete=linkage(df_cluster.set_index('country'),method='complete',metric='euclidean')\n",
    "fig = plt.figure(figsize = (34,15))\n",
    "dendrogram(mergings_complete)\n",
    "plt.show()"
   ]
  },
  {
   "cell_type": "markdown",
   "metadata": {},
   "source": [
    "Este dendograma tiene mejor aspecto pese a que siga dejando a un país aislado en un solo cluster. Procedemos a continuación a cortar el árbol para generar los árboles. Parece interesante cortar en cuatro clusters:"
   ]
  },
  {
   "cell_type": "code",
   "execution_count": null,
   "metadata": {},
   "outputs": [],
   "source": [
    "from scipy.cluster.hierarchy import cut_tree\n",
    "etiquetas_cluster=cut_tree(mergings_complete,n_clusters=4).reshape(-1,)"
   ]
  },
  {
   "cell_type": "markdown",
   "metadata": {},
   "source": [
    "Observamos las etiquetas generadas por este método:"
   ]
  },
  {
   "cell_type": "code",
   "execution_count": null,
   "metadata": {},
   "outputs": [],
   "source": [
    "etiquetas_cluster"
   ]
  },
  {
   "cell_type": "markdown",
   "metadata": {},
   "source": [
    "Asociamos esta etiqueta a los datos para estudiar los clusters como hicimos previamente:"
   ]
  },
  {
   "cell_type": "code",
   "execution_count": null,
   "metadata": {},
   "outputs": [],
   "source": [
    "df_cluster['ClusterID'] = etiquetas_cluster"
   ]
  },
  {
   "cell_type": "code",
   "execution_count": null,
   "metadata": {},
   "outputs": [],
   "source": [
    "merging_data = pd.merge(paises_data, df_cluster.set_index('country'), left_index=True,right_index=True).rename(columns={0:'Cluster'})"
   ]
  },
  {
   "cell_type": "code",
   "execution_count": null,
   "metadata": {},
   "outputs": [],
   "source": [
    "merging_data.head(10)"
   ]
  },
  {
   "cell_type": "markdown",
   "metadata": {},
   "source": [
    "Nos quedamos solo con las variables que nos interesan  descartando las componentes principales por su nula interpretabilidad:"
   ]
  },
  {
   "cell_type": "code",
   "execution_count": null,
   "metadata": {},
   "outputs": [],
   "source": [
    "data_jerarquico = merging_data[['child_mort', 'exports', 'health', 'imports', 'income', 'inflation', 'life_expec', 'total_fer', 'gdpp', 'ClusterID']]"
   ]
  },
  {
   "cell_type": "code",
   "execution_count": null,
   "metadata": {},
   "outputs": [],
   "source": [
    "data_jerarquico"
   ]
  },
  {
   "cell_type": "markdown",
   "metadata": {},
   "source": [
    "Una vez más estudiamos los clusters"
   ]
  },
  {
   "cell_type": "code",
   "execution_count": null,
   "metadata": {},
   "outputs": [],
   "source": [
    "data_jerarquico[data_jerarquico.ClusterID==0].head(20)"
   ]
  },
  {
   "cell_type": "code",
   "execution_count": null,
   "metadata": {},
   "outputs": [],
   "source": [
    "data_jerarquico[data_jerarquico.ClusterID==1]"
   ]
  },
  {
   "cell_type": "code",
   "execution_count": null,
   "metadata": {},
   "outputs": [],
   "source": [
    "data_jerarquico[data_jerarquico.ClusterID==2]"
   ]
  },
  {
   "cell_type": "code",
   "execution_count": null,
   "metadata": {},
   "outputs": [],
   "source": [
    "data_jerarquico[data_jerarquico.ClusterID==3]"
   ]
  },
  {
   "cell_type": "markdown",
   "metadata": {},
   "source": [
    "Observamos que el primer cluster agrupa a los países generales, en el segundo tenemos a los países desarrollados, en el tercero a países bastante ricos y en el cuarto cluster nos ha quedado el país aislado que ha resultado ser Nigeria.\n",
    "\n",
    "Agregamos los datos para sacar alguna conclusión más:"
   ]
  },
  {
   "cell_type": "code",
   "execution_count": null,
   "metadata": {},
   "outputs": [],
   "source": [
    "Cluster_GDPP=pd.DataFrame(data_jerarquico.groupby([\"ClusterID\"]).gdpp.mean())\n",
    "Cluster_child_mort=pd.DataFrame(data_jerarquico.groupby([\"ClusterID\"]).child_mort.mean())\n",
    "Cluster_exports=pd.DataFrame(data_jerarquico.groupby([\"ClusterID\"]).exports.mean())\n",
    "Cluster_income=pd.DataFrame(data_jerarquico.groupby([\"ClusterID\"]).income.mean())\n",
    "Cluster_health=pd.DataFrame(data_jerarquico.groupby([\"ClusterID\"]).health.mean())\n",
    "Cluster_imports=pd.DataFrame(data_jerarquico.groupby([\"ClusterID\"]).imports.mean())\n",
    "Cluster_inflation=pd.DataFrame(data_jerarquico.groupby([\"ClusterID\"]).inflation.mean())\n",
    "Cluster_life_expec=pd.DataFrame(data_jerarquico.groupby([\"ClusterID\"]).life_expec.mean())\n",
    "Cluster_total_fer=pd.DataFrame(data_jerarquico.groupby([\"ClusterID\"]).total_fer.mean())"
   ]
  },
  {
   "cell_type": "code",
   "execution_count": null,
   "metadata": {},
   "outputs": [],
   "source": [
    "media_agregada_jerar = pd.concat([Cluster_GDPP,Cluster_child_mort,Cluster_income,Cluster_exports,Cluster_health,\n",
    "                Cluster_imports,Cluster_inflation,Cluster_life_expec,Cluster_total_fer], axis=1)"
   ]
  },
  {
   "cell_type": "code",
   "execution_count": null,
   "metadata": {},
   "outputs": [],
   "source": [
    "media_agregada_jerar"
   ]
  },
  {
   "cell_type": "markdown",
   "metadata": {},
   "source": [
    "Observamos que el cluster 2 podrían ser los países con más calidad de vida: tienen mayor esperanza de vida, menor mortalidad infantil e ingresos muy altos.  El cluster 1 agrupa países con una gran inversión en salud, una alta esperanza de vida y una mortalidad infantil también baja. Así podriamos agrupar los datos en los siguientes dataframes:"
   ]
  },
  {
   "cell_type": "code",
   "execution_count": null,
   "metadata": {},
   "outputs": [],
   "source": [
    "paises_general = data_jerarquico[data_jerarquico.ClusterID==0]"
   ]
  },
  {
   "cell_type": "code",
   "execution_count": null,
   "metadata": {},
   "outputs": [],
   "source": [
    "paises_desarrol_jerar = data_jerarquico[data_jerarquico.ClusterID==1]"
   ]
  },
  {
   "cell_type": "code",
   "execution_count": null,
   "metadata": {},
   "outputs": [],
   "source": [
    "paises_ricos_jerar = data_jerarquico[data_jerarquico.ClusterID==2]"
   ]
  },
  {
   "cell_type": "code",
   "execution_count": null,
   "metadata": {},
   "outputs": [],
   "source": [
    "nigeria_jerar = [data_jerarquico.ClusterID==3]"
   ]
  },
  {
   "cell_type": "markdown",
   "metadata": {},
   "source": [
    "De nuevo podemos construir algunos gráficos para visualizar nuestros resultados"
   ]
  },
  {
   "cell_type": "code",
   "execution_count": null,
   "metadata": {},
   "outputs": [],
   "source": [
    "fig = plt.figure(figsize = (10,6))\n",
    "media_agregada_jerar.rename(index={0: 'Grupo general'},inplace=True)\n",
    "media_agregada_jerar.rename(index={1: 'Grupo desarrollado'},inplace=True)\n",
    "media_agregada_jerar.rename(index={2: 'Grupo rico'},inplace=True)\n",
    "media_agregada_jerar.rename(index={3: 'Grupo Nigeria'},inplace=True)\n",
    "s=sns.barplot(x=media_agregada_jerar.index,y='gdpp',data=media_agregada_jerar)\n",
    "plt.xlabel('Clusters de países', fontsize=10)\n",
    "plt.ylabel('PIB per Capita', fontsize=10)\n",
    "plt.title('Clusters en base a su PIB')\n",
    "plt.show()\n",
    "\n"
   ]
  },
  {
   "cell_type": "markdown",
   "metadata": {},
   "source": [
    "Que Nigeria aparezca el más bajo no significa que sea el país con menor PIB recordemos que en el grupo general es en el que más países hay y lo reflejado es la media de PIB."
   ]
  },
  {
   "cell_type": "code",
   "execution_count": null,
   "metadata": {},
   "outputs": [],
   "source": [
    "fig = plt.figure(figsize = (10,6))\n",
    "sns.barplot(x=media_agregada_jerar.index,y='child_mort',data=media_agregada_jerar)\n",
    "plt.xlabel('Clusters de países', fontsize=10)\n",
    "plt.ylabel('Mortalidad infantil', fontsize=10)\n",
    "plt.title('Clusters de países en base a la mortalidad infantil')\n",
    "plt.show()"
   ]
  },
  {
   "cell_type": "markdown",
   "metadata": {},
   "source": [
    "Podemos de nuevo construir gráficos de cajas:"
   ]
  },
  {
   "cell_type": "code",
   "execution_count": null,
   "metadata": {},
   "outputs": [],
   "source": [
    "fig = plt.figure(figsize = (12,8))\n",
    "sns.boxplot(x='ClusterID',y='income',data=data_jerarquico)\n",
    "plt.xlabel('Cluster de países', fontsize=10)\n",
    "plt.ylabel('Ingresos por persona', fontsize=10)\n",
    "plt.title('Ingresos por persona en cada cluster')\n",
    "plt.show()"
   ]
  },
  {
   "cell_type": "code",
   "execution_count": null,
   "metadata": {},
   "outputs": [],
   "source": [
    "fig = plt.figure(figsize = (18,6))\n",
    "s=sns.barplot(x=paises_ricos_jerar.index,y='gdpp',data=paises_ricos_jerar)\n",
    "s.set_xticklabels(s.get_xticklabels(),rotation=90)\n",
    "plt.xlabel('País', fontsize=10)\n",
    "plt.ylabel('PIB', fontsize=10)\n",
    "plt.title('PIB en países ricos')\n",
    "plt.show()"
   ]
  },
  {
   "cell_type": "code",
   "execution_count": null,
   "metadata": {},
   "outputs": [],
   "source": [
    "fig = plt.figure(figsize = (18,6))\n",
    "s=sns.barplot(x=paises_desarrol_jerar.index,y='gdpp',data=paises_desarrol_jerar)\n",
    "s.set_xticklabels(s.get_xticklabels(),rotation=90)\n",
    "plt.xlabel('País', fontsize=10)\n",
    "plt.ylabel('PIB', fontsize=10)\n",
    "plt.title('PIB en países desarrollados')\n",
    "plt.show()"
   ]
  },
  {
   "cell_type": "markdown",
   "metadata": {},
   "source": [
    "## Conclusiones\n",
    "\n",
    "Ahora que hemos estudiado ambos métodos podemos concluir que en este problema ofrece mejores resultados el método no jerárquico pues produce una división muy razonable tanto en tamaños (los clusters son similares) como en resultados a la hora de realizar un análisis más profundo.\n",
    "\n",
    "El clustering jerárquico nos devuelve cuatro clusters muy irregulares (uno formado solo por Nigeria, otro formado por tres países...) Como estudiamos en la parte teórica el desarrollo jerárquico pese a su interpretabilidad no se ajusta adecuadamente a un gran número de problemas."
   ]
  }
 ],
 "metadata": {
  "kernelspec": {
   "display_name": "Python 3",
   "language": "python",
   "name": "python3"
  },
  "language_info": {
   "codemirror_mode": {
    "name": "ipython",
    "version": 3
   },
   "file_extension": ".py",
   "mimetype": "text/x-python",
   "name": "python",
   "nbconvert_exporter": "python",
   "pygments_lexer": "ipython3",
   "version": "3.8.1"
  }
 },
 "nbformat": 4,
 "nbformat_minor": 4
}
