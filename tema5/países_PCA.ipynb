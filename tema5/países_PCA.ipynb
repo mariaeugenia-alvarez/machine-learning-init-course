{
 "cells": [
  {
   "cell_type": "markdown",
   "metadata": {},
   "source": [
    "# Análisis de Componentes Principales: Países del Mundo"
   ]
  },
  {
   "cell_type": "markdown",
   "metadata": {},
   "source": [
    "En  este notebook vamos a proceder al cálculo de las componentes principales para el dataset con información de los distintos países que ya hemos comenzado a explorar en el notebook anterior. Una vez extraídas las componentes principales graficaremos los datos intentando ver si esto nos aporta alguna información o resulta inútil. "
   ]
  },
  {
   "cell_type": "markdown",
   "metadata": {},
   "source": [
    "<div>\n",
    "<img src=\"./media/mapamundi.jpg\" width=\"500\"/>\n",
    "</div>"
   ]
  },
  {
   "cell_type": "markdown",
   "metadata": {},
   "source": [
    "Comenzamos importando los módulos:"
   ]
  },
  {
   "cell_type": "code",
   "execution_count": null,
   "metadata": {},
   "outputs": [],
   "source": [
    "import pandas as pd\n",
    "import numpy as np\n",
    "import matplotlib.pyplot as plt"
   ]
  },
  {
   "cell_type": "markdown",
   "metadata": {},
   "source": [
    "Comenzamos cargando los datos en un dataframe:"
   ]
  },
  {
   "cell_type": "code",
   "execution_count": null,
   "metadata": {},
   "outputs": [],
   "source": [
    "paises_data = pd.read_csv('./data/country_data.csv', index_col = 0)"
   ]
  },
  {
   "cell_type": "markdown",
   "metadata": {},
   "source": [
    "Como siempre nos aseguramos de que los datos se hayan cargado correctamente:"
   ]
  },
  {
   "cell_type": "code",
   "execution_count": null,
   "metadata": {},
   "outputs": [],
   "source": [
    "paises_data.head()"
   ]
  },
  {
   "cell_type": "code",
   "execution_count": null,
   "metadata": {},
   "outputs": [],
   "source": [
    "paises_data.shape"
   ]
  },
  {
   "cell_type": "markdown",
   "metadata": {},
   "source": [
    "De nuevo observamos que existen muchas diferencias entre las escalas de las variables por lo que pasamos como siempre a escalar los datos:"
   ]
  },
  {
   "cell_type": "code",
   "execution_count": null,
   "metadata": {},
   "outputs": [],
   "source": [
    "from sklearn.preprocessing import scale\n",
    "X_paises = pd.DataFrame(scale(paises_data), index=paises_data.index, columns=paises_data.columns)"
   ]
  },
  {
   "cell_type": "markdown",
   "metadata": {},
   "source": [
    "Con esto hemos generado nuestros datos escalados:"
   ]
  },
  {
   "cell_type": "code",
   "execution_count": null,
   "metadata": {},
   "outputs": [],
   "source": [
    "X_paises.head()"
   ]
  },
  {
   "cell_type": "markdown",
   "metadata": {},
   "source": [
    "Una vez hecho esto podemos comenzar calculando nuestros vectores de carga:"
   ]
  },
  {
   "cell_type": "code",
   "execution_count": null,
   "metadata": {},
   "outputs": [],
   "source": [
    "from sklearn.decomposition import PCA\n",
    "pca_loadings = pd.DataFrame(PCA().fit(X_paises).components_.T, index=X_paises.columns, columns=['V1', 'V2', 'V3', 'V4', 'V5', 'V6', 'V7', 'V8', 'V9'])\n",
    "pca_loadings"
   ]
  },
  {
   "cell_type": "markdown",
   "metadata": {},
   "source": [
    "Observamos la proyección de cada variable en cada vector de carga. Tenemos en total 9 vectores de carga, ergo, 9 componentes pricipales. Esto era de esperar pues si recordamos nuestro dataframe tiene 167 observaciones y 9 variables luego tendremos un total de min (167-1,9) componentes principales.\n",
    "\n",
    "Podemos construir una tabla en la que vemos como se proyectan los países sobre las nuevas coordenadas:"
   ]
  },
  {
   "cell_type": "code",
   "execution_count": null,
   "metadata": {},
   "outputs": [],
   "source": [
    "pca = PCA()\n",
    "df_plot = pd.DataFrame(pca.fit_transform(X_paises), columns=['PC1', 'PC2', 'PC3', 'PC4', 'PC5', 'PC6', 'PC7', 'PC8', 'PC9'], index=X_paises.index)\n",
    "df_plot.head()"
   ]
  },
  {
   "cell_type": "markdown",
   "metadata": {},
   "source": [
    "Una vez calculadas las componentes podemos visualizar la información sobre las dos primeras:"
   ]
  },
  {
   "cell_type": "code",
   "execution_count": null,
   "metadata": {},
   "outputs": [],
   "source": [
    "fig , ax1 = plt.subplots(figsize=(30,15))\n",
    "ax1.set_xlim(-3.5,3.5)\n",
    "ax1.set_ylim(-3.5,3.5)\n",
    "# Representamos las componentes principales\n",
    "for i in df_plot.index:\n",
    "    ax1.annotate(i, (-df_plot.PC1.loc[i], -df_plot.PC2.loc[i]), ha='center')\n",
    "# Representamos las rectas de referencia\n",
    "ax1.hlines(0,-3.5,3.5, linestyles='dotted', colors='grey')\n",
    "ax1.vlines(0,-3.5,3.5, linestyles='dotted', colors='grey')\n",
    "ax1.set_xlabel('Primera Componente Principal')\n",
    "ax1.set_ylabel('Segunda Componente Principal')\n",
    "# Construimos los ejes para los vectores de carga\n",
    "ax2 = ax1.twinx().twiny()\n",
    "ax2.set_ylim(-1,1)\n",
    "ax2.set_xlim(-1,1)\n",
    "ax2.set_xlabel('En rojo: Vectores de carga', color='red')\n",
    "# Etiquetamos los vectores de carga\n",
    "a = 1.07\n",
    "for i in pca_loadings[['V1', 'V2']].index:\n",
    "    ax2.annotate(i, (-pca_loadings.V1.loc[i]*a, -pca_loadings.V2.loc[i]*a), color='red')\n",
    "# Representamos dichos vectores\n",
    "ax2.arrow(0,0,-pca_loadings.V1[0], -pca_loadings.V2[0])\n",
    "ax2.arrow(0,0,-pca_loadings.V1[1], -pca_loadings.V2[1])\n",
    "ax2.arrow(0,0,-pca_loadings.V1[2], -pca_loadings.V2[2])\n",
    "ax2.arrow(0,0,-pca_loadings.V1[3], -pca_loadings.V2[3])\n",
    "ax2.arrow(0,0,-pca_loadings.V1[4], -pca_loadings.V2[4])\n",
    "ax2.arrow(0,0,-pca_loadings.V1[5], -pca_loadings.V2[5])\n",
    "ax2.arrow(0,0,-pca_loadings.V1[6], -pca_loadings.V2[6])\n",
    "ax2.arrow(0,0,-pca_loadings.V1[7], -pca_loadings.V2[7])\n",
    "ax2.arrow(0,0,-pca_loadings.V1[8], -pca_loadings.V2[8]);"
   ]
  },
  {
   "cell_type": "markdown",
   "metadata": {},
   "source": [
    "**Hipótesis**\n",
    "\n",
    "* Solo con dos componentes ya podemos sacar algunas conclusiones interesantes como que los países que solemos denominar desarrollados toman valores negativos respecto a la primera componente principal y positivos respecto a la segunda. Podemos observar como aparecen agrupados en la esquina superior izquierda.\n",
    "\n",
    "* Las variables que más influyen a la primera componente (aquellas que se representan con vectores más horizontales) son las económicas con los ingresos, el PIB y la inflación. \n",
    "\n",
    "* Las variables que más influyen a la segunda componente (aquellas que se representan con vectores más verticales) son la exportación e importación y el gasto en sanidad.\n",
    "\n",
    "* A medida que avanzamos por el eje horizontal hacia la derecha observamos como se distinguen algunos países poco desarrolados y con peores condiciones de vida como pueden ser Mali, Burkina Faso o Sierra Leona."
   ]
  },
  {
   "cell_type": "markdown",
   "metadata": {},
   "source": [
    "Para evaluar la calidad de este modelo podemos comprobar cuánta varianza se explica en cada componente:"
   ]
  },
  {
   "cell_type": "code",
   "execution_count": null,
   "metadata": {},
   "outputs": [],
   "source": [
    "pca.explained_variance_"
   ]
  },
  {
   "cell_type": "markdown",
   "metadata": {},
   "source": [
    "El número fuera de contexto puede resultar confuso por lo que observamos en su lugar el ratio de varianza explicada:"
   ]
  },
  {
   "cell_type": "code",
   "execution_count": null,
   "metadata": {},
   "outputs": [],
   "source": [
    "pca.explained_variance_ratio_"
   ]
  },
  {
   "cell_type": "markdown",
   "metadata": {},
   "source": [
    "Puede resultar interesante también observar la suma acumulada de estos ratios:"
   ]
  },
  {
   "cell_type": "code",
   "execution_count": null,
   "metadata": {},
   "outputs": [],
   "source": [
    "np.cumsum(pca.explained_variance_ratio_)"
   ]
  },
  {
   "cell_type": "markdown",
   "metadata": {},
   "source": [
    "Observamos que con dos componentes expresamos un 63% de la información, una cantidad nada desdeñable. Esto valida en parte las hipótesis presentadas previamente. "
   ]
  },
  {
   "cell_type": "markdown",
   "metadata": {},
   "source": [
    "Si deseamos fijar un número de componentes principales podemos, como vimos en la teoría, construir los gráficos de sedimentación:"
   ]
  },
  {
   "cell_type": "code",
   "execution_count": null,
   "metadata": {},
   "outputs": [],
   "source": [
    "plt.figure(figsize=(7,5))\n",
    "plt.plot([1,2,3,4,5,6,7,8,9], pca.explained_variance_ratio_, '-o')\n",
    "plt.ylabel('Proporción de varianza explicada')\n",
    "plt.xlabel('Componentes Principal')\n",
    "plt.xlim(0.75,4.25)\n",
    "plt.ylim(0,1.05)\n",
    "plt.xticks([1,2,3,4,5,6,7,8,9]);"
   ]
  },
  {
   "cell_type": "markdown",
   "metadata": {},
   "source": [
    "Personalmente a la hora de elegir el número de componentes siempre me ha parecido más intuitivo el gráfico de varianza acumulada:"
   ]
  },
  {
   "cell_type": "code",
   "execution_count": null,
   "metadata": {},
   "outputs": [],
   "source": [
    "plt.figure(figsize=(7,5))\n",
    "plt.plot([1,2,3,4,5,6,7,8,9], np.cumsum(pca.explained_variance_ratio_), '-s')\n",
    "plt.ylabel('Proporción de varianza explicada acumulada')\n",
    "plt.xlabel('Componentes Principal')\n",
    "plt.xlim(0.75,4.25)\n",
    "plt.ylim(0,1.05)\n",
    "plt.xticks([1,2,3,4,5,6,7,8,9]);"
   ]
  },
  {
   "cell_type": "markdown",
   "metadata": {},
   "source": [
    "Una vez construidos los gráficos tendríamos que decidir con cuántas componentes nos quedamos, todo depende del problema que enfoquemos y la importancia de la precisión vs explicabilidad.\n",
    "\n",
    "En los gráficos observamos que a partir de la tercera componente la curva se va aplanando poco a poco y que a partir de la sexta las nuevas componentes prácticamente no añaden información. Así si deseamos visualizar nos quedamos con dos pero si queremos una mayor precisión, por ejemplo, para aplicar posteriomente un método supervisado elegiríamos un total de 4 o 5 componentes."
   ]
  }
 ],
 "metadata": {
  "kernelspec": {
   "display_name": "Python 3",
   "language": "python",
   "name": "python3"
  },
  "language_info": {
   "codemirror_mode": {
    "name": "ipython",
    "version": 3
   },
   "file_extension": ".py",
   "mimetype": "text/x-python",
   "name": "python",
   "nbconvert_exporter": "python",
   "pygments_lexer": "ipython3",
   "version": "3.8.1"
  }
 },
 "nbformat": 4,
 "nbformat_minor": 4
}
