{
 "cells": [
  {
   "cell_type": "markdown",
   "metadata": {},
   "source": [
    "# Análisis Exploratorio del Titanic\n",
    "\n",
    "En este notebook vamos a explorar la base de datos de los pasajeros del Titanic."
   ]
  },
  {
   "cell_type": "markdown",
   "metadata": {},
   "source": [
    "<div>\n",
    "<img src=\"./media/titanic.jpeg\" width=\"500\"/>\n",
    "</div>"
   ]
  },
  {
   "cell_type": "markdown",
   "metadata": {},
   "source": [
    "Se emplearán los siguientes módulos:"
   ]
  },
  {
   "cell_type": "code",
   "execution_count": null,
   "metadata": {},
   "outputs": [],
   "source": [
    "import pandas as pd\n",
    "import numpy as np\n",
    "import matplotlib.pyplot as plt\n",
    "import seaborn as sns"
   ]
  },
  {
   "cell_type": "markdown",
   "metadata": {},
   "source": [
    "Los datos se encuentran almacenados en un archivo csv:"
   ]
  },
  {
   "cell_type": "code",
   "execution_count": null,
   "metadata": {},
   "outputs": [],
   "source": [
    "raw_data = pd.read_csv('./data/titanic.csv')"
   ]
  },
  {
   "cell_type": "markdown",
   "metadata": {},
   "source": [
    "Observamos que los datos se han cargado correctamente:"
   ]
  },
  {
   "cell_type": "code",
   "execution_count": null,
   "metadata": {},
   "outputs": [],
   "source": [
    "raw_data.head()"
   ]
  },
  {
   "cell_type": "code",
   "execution_count": null,
   "metadata": {},
   "outputs": [],
   "source": [
    "raw_data.shape"
   ]
  },
  {
   "cell_type": "markdown",
   "metadata": {},
   "source": [
    "La base de dato está compuesta por 891 registros y 12 variables, es decir, tenemos 891 pasajeros de los que conocemos 12 características."
   ]
  },
  {
   "cell_type": "markdown",
   "metadata": {},
   "source": [
    "## Diccionario de datos\n",
    "\n",
    "A continuación se enumeran y explican las 12 variables que componen este dataset:\n",
    "\n",
    "* **PassengerId**. Es el índica de pasajeros.\n",
    "* **Survived**. Es una variable binaria que nos indica si la persona ha sobrevivido (1) o no (0).\n",
    "* **PClass**. Es una variable categórica que nos indica la clase en la que viajaba el pasajero. Tiene tres niveles: primera clase (1), segunda clase (2) o tercera clase (3).\n",
    "* **Name**. Indica el nombre y apellido del pasajero.\n",
    "* **Sex**. Indica el sexo de la persona, solo considera hombre o mujer.\n",
    "* **Age**. Indica la edad en años de la persona.\n",
    "* **Sibsp**. Número de hermanos/esposos que la persona tiene a bordo del barco.\n",
    "* **Parch**. Número de padres o  hijos que la persona tiene a bordo del barco.\n",
    "* **Ticket**. Indica el número del ticket.\n",
    "* **Fare**. El billete del pasajero.\n",
    "* **Cabin**. Indica el número de cabina del pasajero.\n",
    "* **Embarked**. Indica el puerto en el que embarcó el pasajero y toma tres posibles valores Cherbourg (C), Queenstown (Q) y Southampton (S)."
   ]
  },
  {
   "cell_type": "markdown",
   "metadata": {},
   "source": [
    "## Estadísticos relevantes\n",
    "\n",
    "Observamos los estadísticos más importantes para las variables cuantitativas:"
   ]
  },
  {
   "cell_type": "code",
   "execution_count": null,
   "metadata": {},
   "outputs": [],
   "source": [
    "raw_data.describe()"
   ]
  },
  {
   "cell_type": "markdown",
   "metadata": {},
   "source": [
    "## Valores perdidos\n",
    "\n",
    "A continuación estudiamos los valores perdidos de nuestra base de datos:"
   ]
  },
  {
   "cell_type": "code",
   "execution_count": null,
   "metadata": {},
   "outputs": [],
   "source": [
    "raw_data.isna().sum()"
   ]
  },
  {
   "cell_type": "markdown",
   "metadata": {},
   "source": [
    "Observamos que la mayor parte de las variables se encuentran completas a excepción de tres:\n",
    "\n",
    "* La edad que presenta 177 huecos.\n",
    "* La cabina que preseta 687 huecos.\n",
    "* La variable de embarcado que presenta 2 huecos."
   ]
  },
  {
   "cell_type": "markdown",
   "metadata": {},
   "source": [
    "## Visualización de datos\n",
    "\n",
    "Reutilizamos las funciones de visualización que vimos en la segunda sección:\n",
    "\n",
    "### Datos categóricos"
   ]
  },
  {
   "cell_type": "code",
   "execution_count": null,
   "metadata": {},
   "outputs": [],
   "source": [
    "def plot_categorical_variables(dataframe, list_categorical_columns):\n",
    "    for variable in list_categorical_columns:\n",
    "        plt.figure()\n",
    "        dataframe[variable].value_counts().sort_index().plot(kind='bar', title=variable)"
   ]
  },
  {
   "cell_type": "code",
   "execution_count": null,
   "metadata": {},
   "outputs": [],
   "source": [
    "list_categorical_columns = ['Survived', 'Pclass', 'Sex', 'Embarked']"
   ]
  },
  {
   "cell_type": "code",
   "execution_count": null,
   "metadata": {},
   "outputs": [],
   "source": [
    "plot_categorical_variables(raw_data, list_categorical_columns)"
   ]
  },
  {
   "cell_type": "markdown",
   "metadata": {},
   "source": [
    "Observamos que las variables categóricas se encuentran bastante desbalanceadas. Debemos prestar especial atención a la variable `survived` que será nuestra variable objetivo en este problema. La variable se encuentra muy desbalanceada (como todos sabemos el Titanic fue una tragedia con un gran número de fallecidos). Podemos extraer las cifras exactas:"
   ]
  },
  {
   "cell_type": "code",
   "execution_count": null,
   "metadata": {},
   "outputs": [],
   "source": [
    "raw_data['Survived'].value_counts()"
   ]
  },
  {
   "cell_type": "markdown",
   "metadata": {},
   "source": [
    "Tenemos 549 fallecidos y 342 supervivientes. Este desbalanceo debe ser tenido en cuenta a la hora de resolver el problema de clasificación."
   ]
  },
  {
   "cell_type": "markdown",
   "metadata": {},
   "source": [
    "### Datos cuantitativos"
   ]
  },
  {
   "cell_type": "code",
   "execution_count": null,
   "metadata": {},
   "outputs": [],
   "source": [
    "def plot_quantitative_variables(dataframe, list_quantitative_columns):\n",
    "    for variable in list_quantitative_columns:\n",
    "        plt.figure()\n",
    "        dataframe[variable].plot(kind = 'hist', title=variable)"
   ]
  },
  {
   "cell_type": "code",
   "execution_count": null,
   "metadata": {},
   "outputs": [],
   "source": [
    "list_quantitative_columns = ['Age', 'Fare']"
   ]
  },
  {
   "cell_type": "code",
   "execution_count": null,
   "metadata": {},
   "outputs": [],
   "source": [
    "plot_quantitative_variables(raw_data, list_quantitative_columns)"
   ]
  },
  {
   "cell_type": "markdown",
   "metadata": {},
   "source": [
    "## Correlación\n",
    "\n",
    "Comenzamos extrayendo la matriz de correlación:"
   ]
  },
  {
   "cell_type": "code",
   "execution_count": null,
   "metadata": {},
   "outputs": [],
   "source": [
    "corr_matrix = raw_data.corr()\n",
    "corr_matrix"
   ]
  },
  {
   "cell_type": "markdown",
   "metadata": {},
   "source": [
    "A partir de esta matriz podemos construir un mapa de calor para comprender mejor los datos de correlación:"
   ]
  },
  {
   "cell_type": "code",
   "execution_count": null,
   "metadata": {},
   "outputs": [],
   "source": [
    "# Generamos una máscara para el triángulo superior\n",
    "mask = np.zeros_like(corr_matrix, dtype=np.bool)\n",
    "mask[np.triu_indices_from(mask)] = True\n",
    "\n",
    "# Construimos la figura en matplotlib\n",
    "f, ax = plt.subplots(figsize=(11, 9))\n",
    "\n",
    "# Generamos el mapa de calor\n",
    "cmap = sns.diverging_palette(220, 10, as_cmap=True)\n",
    "\n",
    "# Dibujamos el mapa usando la máscara y añadiendo algunos parámetros que mejoran la visualización\n",
    "sns.heatmap(corr_matrix, mask=mask, cmap=cmap, vmax=1,vmin=-1, center=0, square=True, linewidths=.5, cbar_kws={\"shrink\": .5});\n"
   ]
  },
  {
   "cell_type": "markdown",
   "metadata": {},
   "source": [
    "Gracias a la gráfica podemos observar que en general las variables están poco correlacionadas a excepción de tres pares:\n",
    "\n",
    "* La variabe fare está correlacionada con survived y con Pclass. Una explicación razonable es que los billetes comienzan numerándose por la tercera clase por lo que billetes más elevados tiene una clase superior.\n",
    "* El par de variables  parch y sibsp están algo correlacionados y tiene también bastante sentido, resulta razonable pensar que cuando una persona viaja con su pareja o sus hermanos es más probable que viaje con otros miembros de la familia como padres o hijos."
   ]
  },
  {
   "cell_type": "markdown",
   "metadata": {},
   "source": [
    "***\n",
    "\n",
    "Con esta primera aproximación a los datos podemos empezar a comprender los datos con los que trabajamos y algunas de las relaciones que existen entre ellos. En los siguientes notebooks construiremos modelos para predecir la probabilidad de que un pasajero sobreviva."
   ]
  }
 ],
 "metadata": {
  "kernelspec": {
   "display_name": "Python 3",
   "language": "python",
   "name": "python3"
  },
  "language_info": {
   "codemirror_mode": {
    "name": "ipython",
    "version": 3
   },
   "file_extension": ".py",
   "mimetype": "text/x-python",
   "name": "python",
   "nbconvert_exporter": "python",
   "pygments_lexer": "ipython3",
   "version": "3.8.1"
  }
 },
 "nbformat": 4,
 "nbformat_minor": 4
}
